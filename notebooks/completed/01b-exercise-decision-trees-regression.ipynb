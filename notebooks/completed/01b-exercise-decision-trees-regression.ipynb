{
  "cells": [
    {
      "cell_type": "markdown",
      "metadata": {
        "id": "wF9odGkt3jGJ"
      },
      "source": [
        "# Regression using Decision Trees\n",
        "\n",
        "In this notebook, we will use decision trees to solve regression problems.\n",
        "\n",
        "The dataset used here originates from a project to build a surrogate model for predicting the band gap of a material from its composition. This surrogate model was used to replace expensive qunatum mecahnical calculations in virtual high-throughput screening of materials for application as photocatalysts. The paper was published in [Chemistry of Materials](https://pubs.acs.org/doi/abs/10.1021/acs.chemmater.9b01519).\n",
        "\n",
        "Through this practice, we can learn not only the usage of regression trees but, more importantly, how to tune hyperparameters for best performance."
      ]
    },
    {
      "cell_type": "code",
      "execution_count": null,
      "metadata": {
        "id": "eUVrDKfr3jGN"
      },
      "outputs": [],
      "source": [
        "# sklearn\n",
        "from sklearn import metrics\n",
        "from sklearn.linear_model import LinearRegression\n",
        "from sklearn.model_selection import train_test_split, cross_val_score, GridSearchCV\n",
        "from sklearn.ensemble import GradientBoostingRegressor\n",
        "import sklearn.datasets\n",
        "\n",
        "# helpers\n",
        "import pandas as pd\n",
        "import numpy as np\n",
        "import matplotlib.pyplot as plt\n",
        "plt.style.use('ggplot')"
      ]
    },
    {
      "cell_type": "code",
      "source": [
        "!wget https://zenodo.org/record/4450207/files/training_data.pickle\n",
        "oxides = pd.read_pickle('./training_data.pickle')"
      ],
      "metadata": {
        "id": "nKD-n6nC4Qmf",
        "outputId": "24dc4e6f-eced-463b-f2d4-b8cf663ec145",
        "colab": {
          "base_uri": "https://localhost:8080/"
        }
      },
      "execution_count": null,
      "outputs": [
        {
          "output_type": "stream",
          "name": "stdout",
          "text": [
            "--2024-11-27 09:08:37--  https://zenodo.org/record/4450207/files/training_data.pickle\n",
            "Resolving zenodo.org (zenodo.org)... 188.185.43.25, 188.185.48.194, 188.185.45.92, ...\n",
            "Connecting to zenodo.org (zenodo.org)|188.185.43.25|:443... connected.\n",
            "HTTP request sent, awaiting response... 301 MOVED PERMANENTLY\n",
            "Location: /records/4450207/files/training_data.pickle [following]\n",
            "--2024-11-27 09:08:38--  https://zenodo.org/records/4450207/files/training_data.pickle\n",
            "Reusing existing connection to zenodo.org:443.\n",
            "HTTP request sent, awaiting response... 200 OK\n",
            "Length: 900335 (879K) [application/octet-stream]\n",
            "Saving to: ‘training_data.pickle’\n",
            "\n",
            "training_data.pickl 100%[===================>] 879.23K  1.11MB/s    in 0.8s    \n",
            "\n",
            "2024-11-27 09:08:39 (1.11 MB/s) - ‘training_data.pickle’ saved [900335/900335]\n",
            "\n"
          ]
        }
      ]
    },
    {
      "cell_type": "markdown",
      "metadata": {
        "id": "6glagVUT3jGS"
      },
      "source": [
        "---"
      ]
    },
    {
      "cell_type": "markdown",
      "metadata": {
        "id": "KIzdG4f-3jGT"
      },
      "source": [
        "# The Dataset\n",
        "\n",
        "Our data are stored in the pickle file `./training_data.pickle`. We load this file into a `pandas.DataFrame` object, an efficient interface to manage column-wise, heterogeneous tabular data."
      ]
    },
    {
      "cell_type": "markdown",
      "metadata": {
        "id": "QOrH7yRO3jGU"
      },
      "source": [
        "We can check all the columns presented in the dataframe:"
      ]
    },
    {
      "cell_type": "code",
      "execution_count": null,
      "metadata": {
        "scrolled": true,
        "id": "Y_WoI3O63jGV",
        "outputId": "5792f2ba-694a-46cb-ef02-cfd7d86e06a2",
        "colab": {
          "base_uri": "https://localhost:8080/"
        }
      },
      "outputs": [
        {
          "output_type": "execute_result",
          "data": {
            "text/plain": [
              "['gllbsc_gap',\n",
              " '0-norm',\n",
              " '2-norm',\n",
              " '3-norm',\n",
              " '5-norm',\n",
              " '7-norm',\n",
              " '10-norm',\n",
              " 'MagpieData minimum Number',\n",
              " 'MagpieData maximum Number',\n",
              " 'MagpieData range Number',\n",
              " 'MagpieData mean Number',\n",
              " 'MagpieData avg_dev Number',\n",
              " 'MagpieData mode Number',\n",
              " 'MagpieData minimum MendeleevNumber',\n",
              " 'MagpieData maximum MendeleevNumber',\n",
              " 'MagpieData range MendeleevNumber',\n",
              " 'MagpieData mean MendeleevNumber',\n",
              " 'MagpieData avg_dev MendeleevNumber',\n",
              " 'MagpieData mode MendeleevNumber',\n",
              " 'MagpieData minimum AtomicWeight',\n",
              " 'MagpieData maximum AtomicWeight',\n",
              " 'MagpieData range AtomicWeight',\n",
              " 'MagpieData mean AtomicWeight',\n",
              " 'MagpieData avg_dev AtomicWeight',\n",
              " 'MagpieData mode AtomicWeight',\n",
              " 'MagpieData minimum MeltingT',\n",
              " 'MagpieData maximum MeltingT',\n",
              " 'MagpieData range MeltingT',\n",
              " 'MagpieData mean MeltingT',\n",
              " 'MagpieData avg_dev MeltingT',\n",
              " 'MagpieData mode MeltingT',\n",
              " 'MagpieData minimum Column',\n",
              " 'MagpieData maximum Column',\n",
              " 'MagpieData range Column',\n",
              " 'MagpieData mean Column',\n",
              " 'MagpieData avg_dev Column',\n",
              " 'MagpieData mode Column',\n",
              " 'MagpieData minimum Row',\n",
              " 'MagpieData maximum Row',\n",
              " 'MagpieData range Row',\n",
              " 'MagpieData mean Row',\n",
              " 'MagpieData avg_dev Row',\n",
              " 'MagpieData mode Row',\n",
              " 'MagpieData minimum CovalentRadius',\n",
              " 'MagpieData maximum CovalentRadius',\n",
              " 'MagpieData range CovalentRadius',\n",
              " 'MagpieData mean CovalentRadius',\n",
              " 'MagpieData avg_dev CovalentRadius',\n",
              " 'MagpieData mode CovalentRadius',\n",
              " 'MagpieData minimum Electronegativity',\n",
              " 'MagpieData maximum Electronegativity',\n",
              " 'MagpieData range Electronegativity',\n",
              " 'MagpieData mean Electronegativity',\n",
              " 'MagpieData avg_dev Electronegativity',\n",
              " 'MagpieData mode Electronegativity',\n",
              " 'MagpieData minimum NsValence',\n",
              " 'MagpieData maximum NsValence',\n",
              " 'MagpieData range NsValence',\n",
              " 'MagpieData mean NsValence',\n",
              " 'MagpieData avg_dev NsValence',\n",
              " 'MagpieData mode NsValence',\n",
              " 'MagpieData minimum NpValence',\n",
              " 'MagpieData maximum NpValence',\n",
              " 'MagpieData range NpValence',\n",
              " 'MagpieData mean NpValence',\n",
              " 'MagpieData avg_dev NpValence',\n",
              " 'MagpieData mode NpValence',\n",
              " 'MagpieData minimum NdValence',\n",
              " 'MagpieData maximum NdValence',\n",
              " 'MagpieData range NdValence',\n",
              " 'MagpieData mean NdValence',\n",
              " 'MagpieData avg_dev NdValence',\n",
              " 'MagpieData mode NdValence',\n",
              " 'MagpieData minimum NfValence',\n",
              " 'MagpieData maximum NfValence',\n",
              " 'MagpieData range NfValence',\n",
              " 'MagpieData mean NfValence',\n",
              " 'MagpieData avg_dev NfValence',\n",
              " 'MagpieData mode NfValence',\n",
              " 'MagpieData minimum NValence',\n",
              " 'MagpieData maximum NValence',\n",
              " 'MagpieData range NValence',\n",
              " 'MagpieData mean NValence',\n",
              " 'MagpieData avg_dev NValence',\n",
              " 'MagpieData mode NValence',\n",
              " 'MagpieData minimum NsUnfilled',\n",
              " 'MagpieData maximum NsUnfilled',\n",
              " 'MagpieData range NsUnfilled',\n",
              " 'MagpieData mean NsUnfilled',\n",
              " 'MagpieData avg_dev NsUnfilled',\n",
              " 'MagpieData mode NsUnfilled',\n",
              " 'MagpieData minimum NpUnfilled',\n",
              " 'MagpieData maximum NpUnfilled',\n",
              " 'MagpieData range NpUnfilled',\n",
              " 'MagpieData mean NpUnfilled',\n",
              " 'MagpieData avg_dev NpUnfilled',\n",
              " 'MagpieData mode NpUnfilled',\n",
              " 'MagpieData minimum NdUnfilled',\n",
              " 'MagpieData maximum NdUnfilled',\n",
              " 'MagpieData range NdUnfilled',\n",
              " 'MagpieData mean NdUnfilled',\n",
              " 'MagpieData avg_dev NdUnfilled',\n",
              " 'MagpieData mode NdUnfilled',\n",
              " 'MagpieData minimum NfUnfilled',\n",
              " 'MagpieData maximum NfUnfilled',\n",
              " 'MagpieData range NfUnfilled',\n",
              " 'MagpieData mean NfUnfilled',\n",
              " 'MagpieData avg_dev NfUnfilled',\n",
              " 'MagpieData mode NfUnfilled',\n",
              " 'MagpieData minimum NUnfilled',\n",
              " 'MagpieData maximum NUnfilled',\n",
              " 'MagpieData range NUnfilled',\n",
              " 'MagpieData mean NUnfilled',\n",
              " 'MagpieData avg_dev NUnfilled',\n",
              " 'MagpieData mode NUnfilled',\n",
              " 'MagpieData minimum GSvolume_pa',\n",
              " 'MagpieData maximum GSvolume_pa',\n",
              " 'MagpieData range GSvolume_pa',\n",
              " 'MagpieData mean GSvolume_pa',\n",
              " 'MagpieData avg_dev GSvolume_pa',\n",
              " 'MagpieData mode GSvolume_pa',\n",
              " 'MagpieData minimum GSbandgap',\n",
              " 'MagpieData maximum GSbandgap',\n",
              " 'MagpieData range GSbandgap',\n",
              " 'MagpieData mean GSbandgap',\n",
              " 'MagpieData avg_dev GSbandgap',\n",
              " 'MagpieData mode GSbandgap',\n",
              " 'MagpieData minimum GSmagmom',\n",
              " 'MagpieData maximum GSmagmom',\n",
              " 'MagpieData range GSmagmom',\n",
              " 'MagpieData mean GSmagmom',\n",
              " 'MagpieData avg_dev GSmagmom',\n",
              " 'MagpieData mode GSmagmom',\n",
              " 'MagpieData minimum SpaceGroupNumber',\n",
              " 'MagpieData maximum SpaceGroupNumber',\n",
              " 'MagpieData range SpaceGroupNumber',\n",
              " 'MagpieData mean SpaceGroupNumber',\n",
              " 'MagpieData avg_dev SpaceGroupNumber',\n",
              " 'MagpieData mode SpaceGroupNumber',\n",
              " 'avg p valence electrons',\n",
              " 'avg d valence electrons',\n",
              " 'avg f valence electrons',\n",
              " 'compound possible',\n",
              " 'max ionic char',\n",
              " 'avg ionic char',\n",
              " 'band center',\n",
              " 'HOMO_energy',\n",
              " 'LUMO_energy',\n",
              " 'gap_AO']"
            ]
          },
          "metadata": {},
          "execution_count": 6
        }
      ],
      "source": [
        "list(oxides.columns)"
      ]
    },
    {
      "cell_type": "markdown",
      "metadata": {
        "id": "U9D2ovZH3jGW"
      },
      "source": [
        "To read data from one of the columns, use the `values` attribute, for example:"
      ]
    },
    {
      "cell_type": "markdown",
      "metadata": {
        "id": "cVOWk0pC3jGX"
      },
      "source": [
        "### Description of the dataset\n",
        "\n",
        "In this practical we are attempting to learn a model that can predict the band gap (energy separation between occupied and un-occupied orbitals) of a material. So we need to set this value as the property to be predicted $y$ This data is stored in the dataframe column called `gllbsc_gap` and we set this to be y by running the cell below:"
      ]
    },
    {
      "cell_type": "code",
      "execution_count": null,
      "metadata": {
        "id": "xAMVlVfF3jGX"
      },
      "outputs": [],
      "source": [
        "# read a single column\n",
        "y = oxides['gllbsc_gap'].values"
      ]
    },
    {
      "cell_type": "markdown",
      "metadata": {
        "id": "vGG-aatM3jGX"
      },
      "source": [
        "We can then use the other properties in the dataset, or a combination of them as *features* ($X$) for our model. For example we could set X to be defined by two features by running the cell below:"
      ]
    },
    {
      "cell_type": "code",
      "execution_count": null,
      "metadata": {
        "id": "Quz0Pqea3jGY",
        "outputId": "d72f560e-a8e8-4e99-df32-223bea2b773d",
        "colab": {
          "base_uri": "https://localhost:8080/"
        }
      },
      "outputs": [
        {
          "output_type": "stream",
          "name": "stdout",
          "text": [
            "(749, 2)\n"
          ]
        }
      ],
      "source": [
        "# read multiple columns and combine them to a matrix\n",
        "X = oxides[['MagpieData minimum Number', 'MagpieData maximum Number']].values\n",
        "print(X.shape)"
      ]
    },
    {
      "cell_type": "markdown",
      "metadata": {
        "id": "AN0OzHTh3jGY"
      },
      "source": [
        "## Regression with the dataset\n",
        "\n",
        "In regression, we attempt to fit a model, $y = f(x)$, where $x$ and $y$ are multi-dimensional data of rank $M$ and $N$, respectively, and $f: \\mathbb{R}^M\\rightarrow\\mathbb{R}^N$ our regression model. In this notebook, $y$ will always be `gllbsc_gap` (so $N=1$), which represents the band gap, and $x$ a combination of the descriptors (all the other columns), each giving the measurement of a certain physical property."
      ]
    },
    {
      "cell_type": "markdown",
      "metadata": {
        "id": "moc3vvnm3jGY"
      },
      "source": [
        "---"
      ]
    },
    {
      "cell_type": "markdown",
      "metadata": {
        "id": "EwCH3ThQ3jGY"
      },
      "source": [
        "# Linear regression: a starter\n",
        "\n",
        "Linear regression is the simplest regression algorithm in machine learning. Many people do not even regard it as a machine learning algorithm because it is explicitly programmed. Still, it serves as a good start to learn some basic concepts.\n",
        "\n",
        "\n",
        "## Univariate regression\n",
        "\n",
        "In univariate linear regression we have the equation:\n",
        "$y = mx + c$\n",
        "and we are attempting to find the best values for $m$ and $c$\n",
        "\n",
        "In a univariate regression, the input rank $M=1$. For instance, let us try `MagpieData avg_dev Electronegativity` as $x$:"
      ]
    },
    {
      "cell_type": "code",
      "execution_count": null,
      "metadata": {
        "id": "79PIe3Rj3jGZ"
      },
      "outputs": [],
      "source": [
        "# read X\n",
        "X = oxides['MagpieData avg_dev Electronegativity'].values\n",
        "# we need to append a dummy dimension to X for univariate regression\n",
        "# to keep the input dimensions consistent with multivariate regression\n",
        "X = X.reshape(-1, 1)\n",
        "# read y\n",
        "y = oxides['gllbsc_gap'].values"
      ]
    },
    {
      "cell_type": "markdown",
      "metadata": {
        "id": "GivGAmev3jGZ"
      },
      "source": [
        "Now we can use linear regression to fit the data and make predictions:"
      ]
    },
    {
      "cell_type": "code",
      "execution_count": null,
      "metadata": {
        "id": "bGahsNUC3jGZ"
      },
      "outputs": [],
      "source": [
        "# fit linear regression model\n",
        "model = LinearRegression().fit(X, y)\n",
        "# make predictions\n",
        "y_pred = model.predict(X)"
      ]
    },
    {
      "cell_type": "markdown",
      "metadata": {
        "id": "RGEDpwWj3jGZ"
      },
      "source": [
        "When we have fitted the model we now want to use some *metrics* to *evaluate* the model performance. Remember the mean squared error and mean absolute error from your lectures. We will now calculate them for the model:"
      ]
    },
    {
      "cell_type": "code",
      "execution_count": null,
      "metadata": {
        "id": "xJCWbQC53jGa",
        "outputId": "a5b4cf78-a577-45e7-ac5e-1cd6e4aa3516",
        "colab": {
          "base_uri": "https://localhost:8080/"
        }
      },
      "outputs": [
        {
          "output_type": "stream",
          "name": "stdout",
          "text": [
            "MSE = 5.157564 eV\n",
            "MAE = 1.833979 eV\n"
          ]
        }
      ],
      "source": [
        "# compute some fitting error\n",
        "print('MSE = %f eV' % metrics.mean_squared_error(y, y_pred))\n",
        "print('MAE = %f eV' % metrics.mean_absolute_error(y, y_pred))"
      ]
    },
    {
      "cell_type": "markdown",
      "metadata": {
        "id": "Lj66_Lmj3jGa"
      },
      "source": [
        "We can also plot the predicted versus the real values to get a visual feel for how well the fitting worked."
      ]
    },
    {
      "cell_type": "code",
      "execution_count": null,
      "metadata": {
        "id": "fGe3q4Iw3jGa",
        "outputId": "70666d18-f2ee-46b0-cb5f-72d3356643b8",
        "colab": {
          "base_uri": "https://localhost:8080/",
          "height": 453
        }
      },
      "outputs": [
        {
          "output_type": "display_data",
          "data": {
            "text/plain": [
              "<Figure size 640x480 with 1 Axes>"
            ],
            "image/png": "[encoded data removed]"
          },
          "metadata": {}
        }
      ],
      "source": [
        "plt.figure(dpi=100)\n",
        "plt.scatter(y, y_pred)\n",
        "plt.xlabel('Eg True (eV)')\n",
        "plt.ylabel('Eg Predicted (eV)')\n",
        "plt.show()"
      ]
    },
    {
      "cell_type": "markdown",
      "metadata": {
        "id": "R2CklI3E3jGb"
      },
      "source": [
        "## Exercise\n",
        "\n",
        "By changeing the feature in the $X$ values above try a number of different features. How does it affect the quality of fitting? Report the feature and the MAE and MSE scores in the table below. *Note* to edit the contets of this cell, simply double click on the cell.\n",
        "\n",
        "| Feature | MAE (eV) | MSE (eV) |\n",
        "|---------|----------|----------|\n",
        "|         |          |          |\n",
        "|         |          |          |\n",
        "|         |          |          |\n",
        "|         |          |          |"
      ]
    },
    {
      "cell_type": "markdown",
      "metadata": {
        "id": "C7TJ3AWu3jGb"
      },
      "source": [
        "## Multivariate regression\n",
        "\n",
        "In a multivariate regression, the input rank $M>1$. Therefore, we will choose a few descriptor to form $x$. Here we choose three descriptors ($M=3$):"
      ]
    },
    {
      "cell_type": "code",
      "execution_count": null,
      "metadata": {
        "id": "g3-ZwGD53jGb"
      },
      "outputs": [],
      "source": [
        "# read X\n",
        "X = oxides[['MagpieData avg_dev CovalentRadius',\n",
        "            'MagpieData avg_dev Electronegativity',\n",
        "            'MagpieData maximum NsValence']].values"
      ]
    },
    {
      "cell_type": "markdown",
      "metadata": {
        "id": "1IciQiK83jGc"
      },
      "source": [
        "And the rest is the same as univariate regression:"
      ]
    },
    {
      "cell_type": "code",
      "execution_count": null,
      "metadata": {
        "id": "E7LV3XKH3jGd",
        "outputId": "ac1d54f2-59cd-40ce-a255-af712b8c5813",
        "colab": {
          "base_uri": "https://localhost:8080/",
          "height": 489
        }
      },
      "outputs": [
        {
          "output_type": "stream",
          "name": "stdout",
          "text": [
            "MSE = 4.706353\n",
            "MAE = 1.740838\n"
          ]
        },
        {
          "output_type": "display_data",
          "data": {
            "text/plain": [
              "<Figure size 640x480 with 1 Axes>"
            ],
            "image/png": "[encoded data removed]"
          },
          "metadata": {}
        }
      ],
      "source": [
        "# fit linear regression model\n",
        "model = LinearRegression().fit(X, y)\n",
        "\n",
        "# make predictions\n",
        "y_pred = model.predict(X)\n",
        "\n",
        "# compute some fitting error\n",
        "print('MSE = %f' % metrics.mean_squared_error(y, y_pred))\n",
        "print('MAE = %f' % metrics.mean_absolute_error(y, y_pred))\n",
        "\n",
        "# plot the original and predicted data against each other\n",
        "plt.figure(dpi=100)\n",
        "plt.scatter(y, y_pred)\n",
        "plt.xlabel('Eg True (eV)')\n",
        "plt.ylabel('Eg Predicted (eV)')\n",
        "plt.show()"
      ]
    },
    {
      "cell_type": "markdown",
      "metadata": {
        "id": "Z97rzeIQ3jGd"
      },
      "source": [
        "## Exercise\n",
        "\n",
        "By changeing the features in the $X$ values above try a number of different feature combinations. How does it affect the quality of fitting? Report the feature and the MAE and MSE scores in the table below. *Note* to edit the contets of this cell, simply double click on the cell.\n",
        "\n",
        "| Feature | MAE (eV) | MSE (eV) |\n",
        "|---------|----------|----------|\n",
        "|         |          |          |\n",
        "|         |          |          |\n",
        "|         |          |          |\n",
        "|         |          |          |"
      ]
    },
    {
      "cell_type": "markdown",
      "metadata": {
        "id": "tHGlbEwB3jGe"
      },
      "source": [
        "---"
      ]
    },
    {
      "cell_type": "markdown",
      "metadata": {
        "id": "evmU6ODE3jGe"
      },
      "source": [
        "# Gradient Boosting Regression\n",
        "\n",
        "Gradient boosting is a method for building an ensemble of weak learners to constitute a single strong learner. We build a series of decision trees, each subsequent tree taking in information about the residuals (errors) from the previous trees. In principle, the fitting should improve each time a new tree is added."
      ]
    },
    {
      "cell_type": "markdown",
      "metadata": {
        "id": "sVQLgotl3jGe"
      },
      "source": [
        "## 1. Create the regressor\n",
        "\n",
        "In `sklearn`, a gradient boosting regressor is created by\n",
        "\n",
        "```python\n",
        "GradientBoostingRegressor(loss=<str>, max_depth=<int>, learning_rate=<float>,\n",
        "                          min_samples_split=<int>, min_samples_leaf=<int>,\n",
        "                          max_features=<int>, subsample=<float>, n_estimators=<int>)\n",
        "```\n",
        "\n",
        "\n",
        "The hyperparameters we need to set include:\n",
        "\n",
        "* `loss`: a loss function to be minimised. We will use 'lad', which is basically MAE.\n",
        "* `max_depth`: the maximum depth limits the number of nodes in the trees; its best value depends on the interaction of the input variables; we will start with 10 and can tune it later.\n",
        "* `learning_rate`: learning rate shrinks the contribution of each tree; there is a trade-off between learning rate and boosting steps; we will start with 0.015 and can tune it later.\n",
        "* `min_samples_split`: the minimum number of samples required to split an internal node; we will start with 50 and can tune it later.\n",
        "* `min_samples_leaf`: the minimum number of samples required to be at a leaf node; we set this as 1.\n",
        "* `max_features`: the number of features to consider when looking for the best split; we will use the number of features in the data.\n",
        "* `subsample`: the fraction of samples to be used for fitting the individual trees; if smaller than 1.0, this results in Stochastic Gradient Boosting. we will start with 0.9 and can tune it later.\n",
        "* `n_estimators`: the number of boosting steps or decision trees; we will start with 300 and can tune it later.\n",
        "\n",
        "**NOTE**: Simply adding more trees can lead to overfitting. Gradient boosting is quite robust against overfitting, but we will have to look out for this."
      ]
    },
    {
      "cell_type": "code",
      "execution_count": null,
      "metadata": {
        "id": "ClGTgDaA3jGf"
      },
      "outputs": [],
      "source": [
        "# create the regressor\n",
        "gbr = GradientBoostingRegressor(loss='absolute_error', max_depth=10, learning_rate=0.015,\n",
        "                                min_samples_split=50, min_samples_leaf=1,\n",
        "                                max_features=len(oxides.columns)-1, subsample=0.9,\n",
        "                                n_estimators=300)"
      ]
    },
    {
      "cell_type": "markdown",
      "metadata": {
        "id": "8MLuSE5O3jGf"
      },
      "source": [
        "## 2. Fit the regressor\n",
        "\n",
        "Here we combine all the descriptors to form $x$ and fit the model:"
      ]
    },
    {
      "cell_type": "code",
      "execution_count": null,
      "metadata": {
        "id": "nGDWuCVF3jGf",
        "outputId": "b80ad8cc-ca69-4ac7-ad1d-2614e34226b0",
        "colab": {
          "base_uri": "https://localhost:8080/",
          "height": 133
        }
      },
      "outputs": [
        {
          "output_type": "stream",
          "name": "stdout",
          "text": [
            "Shape of X: (749, 148)\n"
          ]
        },
        {
          "output_type": "execute_result",
          "data": {
            "text/plain": [
              "GradientBoostingRegressor(learning_rate=0.015, loss='absolute_error',\n",
              "                          max_depth=10, max_features=148, min_samples_split=50,\n",
              "                          n_estimators=300, subsample=0.9)"
            ],
            "text/html": [
              "<style>#sk-container-id-1 {\n",
              "  /* Definition of color scheme common for light and dark mode */\n",
              "  --sklearn-color-text: black;\n",
              "  --sklearn-color-line: gray;\n",
              "  /* Definition of color scheme for unfitted estimators */\n",
              "  --sklearn-color-unfitted-level-0: #fff5e6;\n",
              "  --sklearn-color-unfitted-level-1: #f6e4d2;\n",
              "  --sklearn-color-unfitted-level-2: #ffe0b3;\n",
              "  --sklearn-color-unfitted-level-3: chocolate;\n",
              "  /* Definition of color scheme for fitted estimators */\n",
              "  --sklearn-color-fitted-level-0: #f0f8ff;\n",
              "  --sklearn-color-fitted-level-1: #d4ebff;\n",
              "  --sklearn-color-fitted-level-2: #b3dbfd;\n",
              "  --sklearn-color-fitted-level-3: cornflowerblue;\n",
              "\n",
              "  /* Specific color for light theme */\n",
              "  --sklearn-color-text-on-default-background: var(--sg-text-color, var(--theme-code-foreground, var(--jp-content-font-color1, black)));\n",
              "  --sklearn-color-background: var(--sg-background-color, var(--theme-background, var(--jp-layout-color0, white)));\n",
              "  --sklearn-color-border-box: var(--sg-text-color, var(--theme-code-foreground, var(--jp-content-font-color1, black)));\n",
              "  --sklearn-color-icon: #696969;\n",
              "\n",
              "  @media (prefers-color-scheme: dark) {\n",
              "    /* Redefinition of color scheme for dark theme */\n",
              "    --sklearn-color-text-on-default-background: var(--sg-text-color, var(--theme-code-foreground, var(--jp-content-font-color1, white)));\n",
              "    --sklearn-color-background: var(--sg-background-color, var(--theme-background, var(--jp-layout-color0, #111)));\n",
              "    --sklearn-color-border-box: var(--sg-text-color, var(--theme-code-foreground, var(--jp-content-font-color1, white)));\n",
              "    --sklearn-color-icon: #878787;\n",
              "  }\n",
              "}\n",
              "\n",
              "#sk-container-id-1 {\n",
              "  color: var(--sklearn-color-text);\n",
              "}\n",
              "\n",
              "#sk-container-id-1 pre {\n",
              "  padding: 0;\n",
              "}\n",
              "\n",
              "#sk-container-id-1 input.sk-hidden--visually {\n",
              "  border: 0;\n",
              "  clip: rect(1px 1px 1px 1px);\n",
              "  clip: rect(1px, 1px, 1px, 1px);\n",
              "  height: 1px;\n",
              "  margin: -1px;\n",
              "  overflow: hidden;\n",
              "  padding: 0;\n",
              "  position: absolute;\n",
              "  width: 1px;\n",
              "}\n",
              "\n",
              "#sk-container-id-1 div.sk-dashed-wrapped {\n",
              "  border: 1px dashed var(--sklearn-color-line);\n",
              "  margin: 0 0.4em 0.5em 0.4em;\n",
              "  box-sizing: border-box;\n",
              "  padding-bottom: 0.4em;\n",
              "  background-color: var(--sklearn-color-background);\n",
              "}\n",
              "\n",
              "#sk-container-id-1 div.sk-container {\n",
              "  /* jupyter's `normalize.less` sets `[hidden] { display: none; }`\n",
              "     but bootstrap.min.css set `[hidden] { display: none !important; }`\n",
              "     so we also need the `!important` here to be able to override the\n",
              "     default hidden behavior on the sphinx rendered scikit-learn.org.\n",
              "     See: https://github.com/scikit-learn/scikit-learn/issues/21755 */\n",
              "  display: inline-block !important;\n",
              "  position: relative;\n",
              "}\n",
              "\n",
              "#sk-container-id-1 div.sk-text-repr-fallback {\n",
              "  display: none;\n",
              "}\n",
              "\n",
              "div.sk-parallel-item,\n",
              "div.sk-serial,\n",
              "div.sk-item {\n",
              "  /* draw centered vertical line to link estimators */\n",
              "  background-image: linear-gradient(var(--sklearn-color-text-on-default-background), var(--sklearn-color-text-on-default-background));\n",
              "  background-size: 2px 100%;\n",
              "  background-repeat: no-repeat;\n",
              "  background-position: center center;\n",
              "}\n",
              "\n",
              "/* Parallel-specific style estimator block */\n",
              "\n",
              "#sk-container-id-1 div.sk-parallel-item::after {\n",
              "  content: \"\";\n",
              "  width: 100%;\n",
              "  border-bottom: 2px solid var(--sklearn-color-text-on-default-background);\n",
              "  flex-grow: 1;\n",
              "}\n",
              "\n",
              "#sk-container-id-1 div.sk-parallel {\n",
              "  display: flex;\n",
              "  align-items: stretch;\n",
              "  justify-content: center;\n",
              "  background-color: var(--sklearn-color-background);\n",
              "  position: relative;\n",
              "}\n",
              "\n",
              "#sk-container-id-1 div.sk-parallel-item {\n",
              "  display: flex;\n",
              "  flex-direction: column;\n",
              "}\n",
              "\n",
              "#sk-container-id-1 div.sk-parallel-item:first-child::after {\n",
              "  align-self: flex-end;\n",
              "  width: 50%;\n",
              "}\n",
              "\n",
              "#sk-container-id-1 div.sk-parallel-item:last-child::after {\n",
              "  align-self: flex-start;\n",
              "  width: 50%;\n",
              "}\n",
              "\n",
              "#sk-container-id-1 div.sk-parallel-item:only-child::after {\n",
              "  width: 0;\n",
              "}\n",
              "\n",
              "/* Serial-specific style estimator block */\n",
              "\n",
              "#sk-container-id-1 div.sk-serial {\n",
              "  display: flex;\n",
              "  flex-direction: column;\n",
              "  align-items: center;\n",
              "  background-color: var(--sklearn-color-background);\n",
              "  padding-right: 1em;\n",
              "  padding-left: 1em;\n",
              "}\n",
              "\n",
              "\n",
              "/* Toggleable style: style used for estimator/Pipeline/ColumnTransformer box that is\n",
              "clickable and can be expanded/collapsed.\n",
              "- Pipeline and ColumnTransformer use this feature and define the default style\n",
              "- Estimators will overwrite some part of the style using the `sk-estimator` class\n",
              "*/\n",
              "\n",
              "/* Pipeline and ColumnTransformer style (default) */\n",
              "\n",
              "#sk-container-id-1 div.sk-toggleable {\n",
              "  /* Default theme specific background. It is overwritten whether we have a\n",
              "  specific estimator or a Pipeline/ColumnTransformer */\n",
              "  background-color: var(--sklearn-color-background);\n",
              "}\n",
              "\n",
              "/* Toggleable label */\n",
              "#sk-container-id-1 label.sk-toggleable__label {\n",
              "  cursor: pointer;\n",
              "  display: block;\n",
              "  width: 100%;\n",
              "  margin-bottom: 0;\n",
              "  padding: 0.5em;\n",
              "  box-sizing: border-box;\n",
              "  text-align: center;\n",
              "}\n",
              "\n",
              "#sk-container-id-1 label.sk-toggleable__label-arrow:before {\n",
              "  /* Arrow on the left of the label */\n",
              "  content: \"▸\";\n",
              "  float: left;\n",
              "  margin-right: 0.25em;\n",
              "  color: var(--sklearn-color-icon);\n",
              "}\n",
              "\n",
              "#sk-container-id-1 label.sk-toggleable__label-arrow:hover:before {\n",
              "  color: var(--sklearn-color-text);\n",
              "}\n",
              "\n",
              "/* Toggleable content - dropdown */\n",
              "\n",
              "#sk-container-id-1 div.sk-toggleable__content {\n",
              "  max-height: 0;\n",
              "  max-width: 0;\n",
              "  overflow: hidden;\n",
              "  text-align: left;\n",
              "  /* unfitted */\n",
              "  background-color: var(--sklearn-color-unfitted-level-0);\n",
              "}\n",
              "\n",
              "#sk-container-id-1 div.sk-toggleable__content.fitted {\n",
              "  /* fitted */\n",
              "  background-color: var(--sklearn-color-fitted-level-0);\n",
              "}\n",
              "\n",
              "#sk-container-id-1 div.sk-toggleable__content pre {\n",
              "  margin: 0.2em;\n",
              "  border-radius: 0.25em;\n",
              "  color: var(--sklearn-color-text);\n",
              "  /* unfitted */\n",
              "  background-color: var(--sklearn-color-unfitted-level-0);\n",
              "}\n",
              "\n",
              "#sk-container-id-1 div.sk-toggleable__content.fitted pre {\n",
              "  /* unfitted */\n",
              "  background-color: var(--sklearn-color-fitted-level-0);\n",
              "}\n",
              "\n",
              "#sk-container-id-1 input.sk-toggleable__control:checked~div.sk-toggleable__content {\n",
              "  /* Expand drop-down */\n",
              "  max-height: 200px;\n",
              "  max-width: 100%;\n",
              "  overflow: auto;\n",
              "}\n",
              "\n",
              "#sk-container-id-1 input.sk-toggleable__control:checked~label.sk-toggleable__label-arrow:before {\n",
              "  content: \"▾\";\n",
              "}\n",
              "\n",
              "/* Pipeline/ColumnTransformer-specific style */\n",
              "\n",
              "#sk-container-id-1 div.sk-label input.sk-toggleable__control:checked~label.sk-toggleable__label {\n",
              "  color: var(--sklearn-color-text);\n",
              "  background-color: var(--sklearn-color-unfitted-level-2);\n",
              "}\n",
              "\n",
              "#sk-container-id-1 div.sk-label.fitted input.sk-toggleable__control:checked~label.sk-toggleable__label {\n",
              "  background-color: var(--sklearn-color-fitted-level-2);\n",
              "}\n",
              "\n",
              "/* Estimator-specific style */\n",
              "\n",
              "/* Colorize estimator box */\n",
              "#sk-container-id-1 div.sk-estimator input.sk-toggleable__control:checked~label.sk-toggleable__label {\n",
              "  /* unfitted */\n",
              "  background-color: var(--sklearn-color-unfitted-level-2);\n",
              "}\n",
              "\n",
              "#sk-container-id-1 div.sk-estimator.fitted input.sk-toggleable__control:checked~label.sk-toggleable__label {\n",
              "  /* fitted */\n",
              "  background-color: var(--sklearn-color-fitted-level-2);\n",
              "}\n",
              "\n",
              "#sk-container-id-1 div.sk-label label.sk-toggleable__label,\n",
              "#sk-container-id-1 div.sk-label label {\n",
              "  /* The background is the default theme color */\n",
              "  color: var(--sklearn-color-text-on-default-background);\n",
              "}\n",
              "\n",
              "/* On hover, darken the color of the background */\n",
              "#sk-container-id-1 div.sk-label:hover label.sk-toggleable__label {\n",
              "  color: var(--sklearn-color-text);\n",
              "  background-color: var(--sklearn-color-unfitted-level-2);\n",
              "}\n",
              "\n",
              "/* Label box, darken color on hover, fitted */\n",
              "#sk-container-id-1 div.sk-label.fitted:hover label.sk-toggleable__label.fitted {\n",
              "  color: var(--sklearn-color-text);\n",
              "  background-color: var(--sklearn-color-fitted-level-2);\n",
              "}\n",
              "\n",
              "/* Estimator label */\n",
              "\n",
              "#sk-container-id-1 div.sk-label label {\n",
              "  font-family: monospace;\n",
              "  font-weight: bold;\n",
              "  display: inline-block;\n",
              "  line-height: 1.2em;\n",
              "}\n",
              "\n",
              "#sk-container-id-1 div.sk-label-container {\n",
              "  text-align: center;\n",
              "}\n",
              "\n",
              "/* Estimator-specific */\n",
              "#sk-container-id-1 div.sk-estimator {\n",
              "  font-family: monospace;\n",
              "  border: 1px dotted var(--sklearn-color-border-box);\n",
              "  border-radius: 0.25em;\n",
              "  box-sizing: border-box;\n",
              "  margin-bottom: 0.5em;\n",
              "  /* unfitted */\n",
              "  background-color: var(--sklearn-color-unfitted-level-0);\n",
              "}\n",
              "\n",
              "#sk-container-id-1 div.sk-estimator.fitted {\n",
              "  /* fitted */\n",
              "  background-color: var(--sklearn-color-fitted-level-0);\n",
              "}\n",
              "\n",
              "/* on hover */\n",
              "#sk-container-id-1 div.sk-estimator:hover {\n",
              "  /* unfitted */\n",
              "  background-color: var(--sklearn-color-unfitted-level-2);\n",
              "}\n",
              "\n",
              "#sk-container-id-1 div.sk-estimator.fitted:hover {\n",
              "  /* fitted */\n",
              "  background-color: var(--sklearn-color-fitted-level-2);\n",
              "}\n",
              "\n",
              "/* Specification for estimator info (e.g. \"i\" and \"?\") */\n",
              "\n",
              "/* Common style for \"i\" and \"?\" */\n",
              "\n",
              ".sk-estimator-doc-link,\n",
              "a:link.sk-estimator-doc-link,\n",
              "a:visited.sk-estimator-doc-link {\n",
              "  float: right;\n",
              "  font-size: smaller;\n",
              "  line-height: 1em;\n",
              "  font-family: monospace;\n",
              "  background-color: var(--sklearn-color-background);\n",
              "  border-radius: 1em;\n",
              "  height: 1em;\n",
              "  width: 1em;\n",
              "  text-decoration: none !important;\n",
              "  margin-left: 1ex;\n",
              "  /* unfitted */\n",
              "  border: var(--sklearn-color-unfitted-level-1) 1pt solid;\n",
              "  color: var(--sklearn-color-unfitted-level-1);\n",
              "}\n",
              "\n",
              ".sk-estimator-doc-link.fitted,\n",
              "a:link.sk-estimator-doc-link.fitted,\n",
              "a:visited.sk-estimator-doc-link.fitted {\n",
              "  /* fitted */\n",
              "  border: var(--sklearn-color-fitted-level-1) 1pt solid;\n",
              "  color: var(--sklearn-color-fitted-level-1);\n",
              "}\n",
              "\n",
              "/* On hover */\n",
              "div.sk-estimator:hover .sk-estimator-doc-link:hover,\n",
              ".sk-estimator-doc-link:hover,\n",
              "div.sk-label-container:hover .sk-estimator-doc-link:hover,\n",
              ".sk-estimator-doc-link:hover {\n",
              "  /* unfitted */\n",
              "  background-color: var(--sklearn-color-unfitted-level-3);\n",
              "  color: var(--sklearn-color-background);\n",
              "  text-decoration: none;\n",
              "}\n",
              "\n",
              "div.sk-estimator.fitted:hover .sk-estimator-doc-link.fitted:hover,\n",
              ".sk-estimator-doc-link.fitted:hover,\n",
              "div.sk-label-container:hover .sk-estimator-doc-link.fitted:hover,\n",
              ".sk-estimator-doc-link.fitted:hover {\n",
              "  /* fitted */\n",
              "  background-color: var(--sklearn-color-fitted-level-3);\n",
              "  color: var(--sklearn-color-background);\n",
              "  text-decoration: none;\n",
              "}\n",
              "\n",
              "/* Span, style for the box shown on hovering the info icon */\n",
              ".sk-estimator-doc-link span {\n",
              "  display: none;\n",
              "  z-index: 9999;\n",
              "  position: relative;\n",
              "  font-weight: normal;\n",
              "  right: .2ex;\n",
              "  padding: .5ex;\n",
              "  margin: .5ex;\n",
              "  width: min-content;\n",
              "  min-width: 20ex;\n",
              "  max-width: 50ex;\n",
              "  color: var(--sklearn-color-text);\n",
              "  box-shadow: 2pt 2pt 4pt #999;\n",
              "  /* unfitted */\n",
              "  background: var(--sklearn-color-unfitted-level-0);\n",
              "  border: .5pt solid var(--sklearn-color-unfitted-level-3);\n",
              "}\n",
              "\n",
              ".sk-estimator-doc-link.fitted span {\n",
              "  /* fitted */\n",
              "  background: var(--sklearn-color-fitted-level-0);\n",
              "  border: var(--sklearn-color-fitted-level-3);\n",
              "}\n",
              "\n",
              ".sk-estimator-doc-link:hover span {\n",
              "  display: block;\n",
              "}\n",
              "\n",
              "/* \"?\"-specific style due to the `<a>` HTML tag */\n",
              "\n",
              "#sk-container-id-1 a.estimator_doc_link {\n",
              "  float: right;\n",
              "  font-size: 1rem;\n",
              "  line-height: 1em;\n",
              "  font-family: monospace;\n",
              "  background-color: var(--sklearn-color-background);\n",
              "  border-radius: 1rem;\n",
              "  height: 1rem;\n",
              "  width: 1rem;\n",
              "  text-decoration: none;\n",
              "  /* unfitted */\n",
              "  color: var(--sklearn-color-unfitted-level-1);\n",
              "  border: var(--sklearn-color-unfitted-level-1) 1pt solid;\n",
              "}\n",
              "\n",
              "#sk-container-id-1 a.estimator_doc_link.fitted {\n",
              "  /* fitted */\n",
              "  border: var(--sklearn-color-fitted-level-1) 1pt solid;\n",
              "  color: var(--sklearn-color-fitted-level-1);\n",
              "}\n",
              "\n",
              "/* On hover */\n",
              "#sk-container-id-1 a.estimator_doc_link:hover {\n",
              "  /* unfitted */\n",
              "  background-color: var(--sklearn-color-unfitted-level-3);\n",
              "  color: var(--sklearn-color-background);\n",
              "  text-decoration: none;\n",
              "}\n",
              "\n",
              "#sk-container-id-1 a.estimator_doc_link.fitted:hover {\n",
              "  /* fitted */\n",
              "  background-color: var(--sklearn-color-fitted-level-3);\n",
              "}\n",
              "</style><div id=\"sk-container-id-1\" class=\"sk-top-container\"><div class=\"sk-text-repr-fallback\"><pre>GradientBoostingRegressor(learning_rate=0.015, loss=&#x27;absolute_error&#x27;,\n",
              "                          max_depth=10, max_features=148, min_samples_split=50,\n",
              "                          n_estimators=300, subsample=0.9)</pre><b>In a Jupyter environment, please rerun this cell to show the HTML representation or trust the notebook. <br />On GitHub, the HTML representation is unable to render, please try loading this page with nbviewer.org.</b></div><div class=\"sk-container\" hidden><div class=\"sk-item\"><div class=\"sk-estimator fitted sk-toggleable\"><input class=\"sk-toggleable__control sk-hidden--visually\" id=\"sk-estimator-id-1\" type=\"checkbox\" checked><label for=\"sk-estimator-id-1\" class=\"sk-toggleable__label fitted sk-toggleable__label-arrow fitted\">&nbsp;&nbsp;GradientBoostingRegressor<a class=\"sk-estimator-doc-link fitted\" rel=\"noreferrer\" target=\"_blank\" href=\"https://scikit-learn.org/1.5/modules/generated/sklearn.ensemble.GradientBoostingRegressor.html\">?<span>Documentation for GradientBoostingRegressor</span></a><span class=\"sk-estimator-doc-link fitted\">i<span>Fitted</span></span></label><div class=\"sk-toggleable__content fitted\"><pre>GradientBoostingRegressor(learning_rate=0.015, loss=&#x27;absolute_error&#x27;,\n",
              "                          max_depth=10, max_features=148, min_samples_split=50,\n",
              "                          n_estimators=300, subsample=0.9)</pre></div> </div></div></div></div>"
            ]
          },
          "metadata": {},
          "execution_count": 20
        }
      ],
      "source": [
        "# combine all the columns into X\n",
        "cols = [a for a in list(oxides.columns) if a not in ['gllbsc_gap']]\n",
        "X = oxides[cols].values\n",
        "print('Shape of X: %s' % str(X.shape))\n",
        "\n",
        "# fit the model\n",
        "gbr.fit(X, y)"
      ]
    },
    {
      "cell_type": "markdown",
      "metadata": {
        "id": "ku8ERizk3jGg"
      },
      "source": [
        "After fitting the model, we can make predictions and plot them against the original data. The fit has shown a significant improvement over linear regression."
      ]
    },
    {
      "cell_type": "code",
      "execution_count": null,
      "metadata": {
        "id": "dKNEsHsa3jGg",
        "outputId": "e63ac5ba-f47c-4a84-e1ff-08b2c3bfe319",
        "colab": {
          "base_uri": "https://localhost:8080/",
          "height": 430
        }
      },
      "outputs": [
        {
          "output_type": "display_data",
          "data": {
            "text/plain": [
              "<Figure size 640x480 with 1 Axes>"
            ],
            "image/png": "[encoded data removed]"
          },
          "metadata": {}
        }
      ],
      "source": [
        "# make predictions\n",
        "y_pred = gbr.predict(X)\n",
        "\n",
        "# plot the original and predicted data against each other\n",
        "plt.figure(dpi=100)\n",
        "plt.scatter(y, y_pred)\n",
        "plt.show()"
      ]
    },
    {
      "cell_type": "markdown",
      "metadata": {
        "id": "KLn5E6Fe3jGg"
      },
      "source": [
        "## 3. Cross validation\n",
        "\n",
        "Cross-validation (CV) allows us to evaluate the out-of-sample goodness-of-fit of the regressor without sparing a validation set. In the basic approach, as called the k-fold CV, the training set is split into $k$ subsets, each serving as the validation set to evaluate the model trained with the other $k-1$ subsets. This approach can be computationally expensive but does not waste too much data (as is the case when fixing an arbitrary validation set), which is a major advantage for problems with limited data. Note that a lower CV score means better goodness of fit.\n",
        "\n",
        "In the following cell, we compute the scores using 5 folds (so 20% of data for each validation) and the negative MAE as the metric:"
      ]
    },
    {
      "cell_type": "code",
      "execution_count": null,
      "metadata": {
        "id": "sGzsrrQJ3jGg",
        "outputId": "5c4c7eea-9aab-4db1-88ed-f6e9d7951993",
        "colab": {
          "base_uri": "https://localhost:8080/"
        }
      },
      "outputs": [
        {
          "output_type": "stream",
          "name": "stdout",
          "text": [
            "Cross validation score: 0.9397692461359846\n"
          ]
        }
      ],
      "source": [
        "# compute cross validation score\n",
        "scores = cross_val_score(gbr, X, y, cv=5, scoring='neg_mean_absolute_error')\n",
        "print('Cross validation score: {}'.format(-1 * np.mean(scores)))"
      ]
    },
    {
      "cell_type": "markdown",
      "metadata": {
        "id": "NqJbBouP3jGh"
      },
      "source": [
        "## 4. Boosting rate and overfitting\n",
        "\n",
        "Let us split the dataset 80:20 into training and test sets. Re-fit the model using the training set only. We can then use some built-in methods of `GradientBoostingRegressor` to get training and test scores at each iteration of boosting. This way, we can check if we have insufficient boosting layers or perhaps we have too many and thus suffer overfitting.\n"
      ]
    },
    {
      "cell_type": "code",
      "execution_count": null,
      "metadata": {
        "id": "H8MmxuXu3jGh",
        "outputId": "4fc766c7-d07d-40a4-91d4-b02a0b7a6118",
        "colab": {
          "base_uri": "https://localhost:8080/",
          "height": 430
        }
      },
      "outputs": [
        {
          "output_type": "display_data",
          "data": {
            "text/plain": [
              "<Figure size 640x480 with 1 Axes>"
            ],
            "image/png": "[encoded data removed]"
          },
          "metadata": {}
        }
      ],
      "source": [
        "# split the dataset\n",
        "X_train, X_test, y_train, y_test = train_test_split(X, y, test_size=0.2)\n",
        "\n",
        "# fit with training set\n",
        "gbr.fit(X_train, y_train)\n",
        "\n",
        "# compute test score at each boosting step\n",
        "test_score = np.zeros((300,), dtype=np.float64)\n",
        "for i, y_pred in enumerate(gbr.staged_predict(X_test)):\n",
        "    test_score[i] = gbr._loss(y_test, y_pred)\n",
        "\n",
        "# plot the scores\n",
        "plt.figure(dpi=100)\n",
        "plt.plot(gbr.train_score_, label='Loss on training set')\n",
        "plt.plot(test_score, label='Loss on test set')\n",
        "plt.legend()\n",
        "plt.show()"
      ]
    },
    {
      "cell_type": "code",
      "source": [
        "gbr._loss(y_test, y_pred)"
      ],
      "metadata": {
        "id": "q7QzYl906HI0",
        "outputId": "d0325b14-41a4-47dc-a6fc-bc41c5aea772",
        "colab": {
          "base_uri": "https://localhost:8080/"
        }
      },
      "execution_count": null,
      "outputs": [
        {
          "output_type": "execute_result",
          "data": {
            "text/plain": [
              "1.830193821040694"
            ]
          },
          "metadata": {},
          "execution_count": 29
        }
      ]
    },
    {
      "cell_type": "markdown",
      "metadata": {
        "id": "5hRvfNzl3jGi"
      },
      "source": [
        "Notice that the loss of both training and test are still decreasing at 300 steps. We can try to increase the boosting steps to 500 and see if we can still get improvements. If the test score stops increasing, we are probably in a good place to stop extending the model."
      ]
    },
    {
      "cell_type": "code",
      "execution_count": null,
      "metadata": {
        "id": "XKuj4Cvt3jGi",
        "outputId": "0be05bcc-bdc0-4d85-ddf0-8fbc46240020",
        "colab": {
          "base_uri": "https://localhost:8080/",
          "height": 430
        }
      },
      "outputs": [
        {
          "output_type": "display_data",
          "data": {
            "text/plain": [
              "<Figure size 640x480 with 1 Axes>"
            ],
            "image/png": "[encoded data removed]"
          },
          "metadata": {}
        }
      ],
      "source": [
        "# create the regressor with more boosting steps\n",
        "gbr500 = GradientBoostingRegressor(loss='absolute_error', max_depth=10, learning_rate=0.015,\n",
        "                                   min_samples_split=50, min_samples_leaf=1,\n",
        "                                   max_features=len(oxides.columns)-1, subsample=0.9,\n",
        "                                   n_estimators=500)\n",
        "\n",
        "# fit with training set\n",
        "gbr500.fit(X_train, y_train)\n",
        "\n",
        "# compute test score at each boosting step\n",
        "test_score = np.zeros((500,), dtype=np.float64)\n",
        "for i, y_pred in enumerate(gbr500.staged_predict(X_test)):\n",
        "    test_score[i] = gbr500._loss(y_test, y_pred)\n",
        "\n",
        "# plot the scores\n",
        "plt.figure(dpi=100)\n",
        "plt.plot(gbr500.train_score_, label='Loss on training set')\n",
        "plt.plot(test_score, label='Loss on test set')\n",
        "plt.legend()\n",
        "plt.show()"
      ]
    },
    {
      "cell_type": "markdown",
      "metadata": {
        "id": "Il2iCF083jGi"
      },
      "source": [
        "Again, do a 5-fold cross validation at this point. How does the score compare to the earlier one?"
      ]
    },
    {
      "cell_type": "code",
      "execution_count": null,
      "metadata": {
        "id": "qj5ujEI63jGi",
        "outputId": "9123b772-e51d-46d8-f475-3aeab8857ced",
        "colab": {
          "base_uri": "https://localhost:8080/"
        }
      },
      "outputs": [
        {
          "output_type": "stream",
          "name": "stdout",
          "text": [
            "Cross validation score: 0.906445635667445\n"
          ]
        }
      ],
      "source": [
        "# compute cross validation score\n",
        "scores = cross_val_score(gbr500, X, y, cv=5, scoring='neg_mean_absolute_error')\n",
        "print('Cross validation score: {}'.format(-1 * np.mean(scores)))"
      ]
    },
    {
      "cell_type": "markdown",
      "metadata": {
        "id": "gqE45SMF3jGi"
      },
      "source": [
        "##  5. Systematic hyperparameter tuning\n",
        "\n",
        "Hand tuning a large number of hyperparameters is laborious. Luckily, `sklearn` provides a function [`GridSearchCV`](https://scikit-learn.org/stable/modules/generated/sklearn.model_selection.GridSearchCV.html) to automate searches in the hyperparameter space. Even though, performing a grid-search of all of the hyperparameters at once would again lead to a combinatorial explosion. A general strategy for tuning hyperparameters in gradient boosted trees has been suggested [here](https://www.analyticsvidhya.com/blog/2016/02/complete-guide-parameter-tuning-gradient-boosting-gbm-python/).\n",
        "\n",
        "1. Choose a relatively high learning rate. Generally the default value of 0.1 works but somewhere between 0.05 to 0.2 should work for different problems.\n",
        "2. Determine the optimum number of trees for this learning rate. This should range around 40 to 90. Remember to choose a value on which your system can work fairly fast. This is because it will be used for testing various scenarios and determining the tree parameters.\n",
        "3. Tune tree-specific parameters for decided learning rate and number of trees.\n",
        "4. Lower the learning rate and increase the estimators proportionally to get more robust models.\n",
        "\n",
        "We will follow the above process to tune our regressor.\n",
        "\n",
        "\n",
        "### Step 1 & 2: Optimise `n_estimators` with `learning_rate=0.1`"
      ]
    },
    {
      "cell_type": "code",
      "execution_count": null,
      "metadata": {
        "id": "nUgzpnoR3jGi",
        "outputId": "54242cc7-99dd-493f-caae-331d8c717f91",
        "colab": {
          "base_uri": "https://localhost:8080/",
          "height": 136
        }
      },
      "outputs": [
        {
          "output_type": "execute_result",
          "data": {
            "text/plain": [
              "GridSearchCV(cv=5,\n",
              "             estimator=GradientBoostingRegressor(loss='absolute_error',\n",
              "                                                 max_depth=10, max_features=148,\n",
              "                                                 min_samples_split=50,\n",
              "                                                 random_state=0,\n",
              "                                                 subsample=0.9),\n",
              "             param_grid={'n_estimators': range(40, 90, 10)},\n",
              "             scoring='neg_median_absolute_error')"
            ],
            "text/html": [
              "<style>#sk-container-id-2 {\n",
              "  /* Definition of color scheme common for light and dark mode */\n",
              "  --sklearn-color-text: black;\n",
              "  --sklearn-color-line: gray;\n",
              "  /* Definition of color scheme for unfitted estimators */\n",
              "  --sklearn-color-unfitted-level-0: #fff5e6;\n",
              "  --sklearn-color-unfitted-level-1: #f6e4d2;\n",
              "  --sklearn-color-unfitted-level-2: #ffe0b3;\n",
              "  --sklearn-color-unfitted-level-3: chocolate;\n",
              "  /* Definition of color scheme for fitted estimators */\n",
              "  --sklearn-color-fitted-level-0: #f0f8ff;\n",
              "  --sklearn-color-fitted-level-1: #d4ebff;\n",
              "  --sklearn-color-fitted-level-2: #b3dbfd;\n",
              "  --sklearn-color-fitted-level-3: cornflowerblue;\n",
              "\n",
              "  /* Specific color for light theme */\n",
              "  --sklearn-color-text-on-default-background: var(--sg-text-color, var(--theme-code-foreground, var(--jp-content-font-color1, black)));\n",
              "  --sklearn-color-background: var(--sg-background-color, var(--theme-background, var(--jp-layout-color0, white)));\n",
              "  --sklearn-color-border-box: var(--sg-text-color, var(--theme-code-foreground, var(--jp-content-font-color1, black)));\n",
              "  --sklearn-color-icon: #696969;\n",
              "\n",
              "  @media (prefers-color-scheme: dark) {\n",
              "    /* Redefinition of color scheme for dark theme */\n",
              "    --sklearn-color-text-on-default-background: var(--sg-text-color, var(--theme-code-foreground, var(--jp-content-font-color1, white)));\n",
              "    --sklearn-color-background: var(--sg-background-color, var(--theme-background, var(--jp-layout-color0, #111)));\n",
              "    --sklearn-color-border-box: var(--sg-text-color, var(--theme-code-foreground, var(--jp-content-font-color1, white)));\n",
              "    --sklearn-color-icon: #878787;\n",
              "  }\n",
              "}\n",
              "\n",
              "#sk-container-id-2 {\n",
              "  color: var(--sklearn-color-text);\n",
              "}\n",
              "\n",
              "#sk-container-id-2 pre {\n",
              "  padding: 0;\n",
              "}\n",
              "\n",
              "#sk-container-id-2 input.sk-hidden--visually {\n",
              "  border: 0;\n",
              "  clip: rect(1px 1px 1px 1px);\n",
              "  clip: rect(1px, 1px, 1px, 1px);\n",
              "  height: 1px;\n",
              "  margin: -1px;\n",
              "  overflow: hidden;\n",
              "  padding: 0;\n",
              "  position: absolute;\n",
              "  width: 1px;\n",
              "}\n",
              "\n",
              "#sk-container-id-2 div.sk-dashed-wrapped {\n",
              "  border: 1px dashed var(--sklearn-color-line);\n",
              "  margin: 0 0.4em 0.5em 0.4em;\n",
              "  box-sizing: border-box;\n",
              "  padding-bottom: 0.4em;\n",
              "  background-color: var(--sklearn-color-background);\n",
              "}\n",
              "\n",
              "#sk-container-id-2 div.sk-container {\n",
              "  /* jupyter's `normalize.less` sets `[hidden] { display: none; }`\n",
              "     but bootstrap.min.css set `[hidden] { display: none !important; }`\n",
              "     so we also need the `!important` here to be able to override the\n",
              "     default hidden behavior on the sphinx rendered scikit-learn.org.\n",
              "     See: https://github.com/scikit-learn/scikit-learn/issues/21755 */\n",
              "  display: inline-block !important;\n",
              "  position: relative;\n",
              "}\n",
              "\n",
              "#sk-container-id-2 div.sk-text-repr-fallback {\n",
              "  display: none;\n",
              "}\n",
              "\n",
              "div.sk-parallel-item,\n",
              "div.sk-serial,\n",
              "div.sk-item {\n",
              "  /* draw centered vertical line to link estimators */\n",
              "  background-image: linear-gradient(var(--sklearn-color-text-on-default-background), var(--sklearn-color-text-on-default-background));\n",
              "  background-size: 2px 100%;\n",
              "  background-repeat: no-repeat;\n",
              "  background-position: center center;\n",
              "}\n",
              "\n",
              "/* Parallel-specific style estimator block */\n",
              "\n",
              "#sk-container-id-2 div.sk-parallel-item::after {\n",
              "  content: \"\";\n",
              "  width: 100%;\n",
              "  border-bottom: 2px solid var(--sklearn-color-text-on-default-background);\n",
              "  flex-grow: 1;\n",
              "}\n",
              "\n",
              "#sk-container-id-2 div.sk-parallel {\n",
              "  display: flex;\n",
              "  align-items: stretch;\n",
              "  justify-content: center;\n",
              "  background-color: var(--sklearn-color-background);\n",
              "  position: relative;\n",
              "}\n",
              "\n",
              "#sk-container-id-2 div.sk-parallel-item {\n",
              "  display: flex;\n",
              "  flex-direction: column;\n",
              "}\n",
              "\n",
              "#sk-container-id-2 div.sk-parallel-item:first-child::after {\n",
              "  align-self: flex-end;\n",
              "  width: 50%;\n",
              "}\n",
              "\n",
              "#sk-container-id-2 div.sk-parallel-item:last-child::after {\n",
              "  align-self: flex-start;\n",
              "  width: 50%;\n",
              "}\n",
              "\n",
              "#sk-container-id-2 div.sk-parallel-item:only-child::after {\n",
              "  width: 0;\n",
              "}\n",
              "\n",
              "/* Serial-specific style estimator block */\n",
              "\n",
              "#sk-container-id-2 div.sk-serial {\n",
              "  display: flex;\n",
              "  flex-direction: column;\n",
              "  align-items: center;\n",
              "  background-color: var(--sklearn-color-background);\n",
              "  padding-right: 1em;\n",
              "  padding-left: 1em;\n",
              "}\n",
              "\n",
              "\n",
              "/* Toggleable style: style used for estimator/Pipeline/ColumnTransformer box that is\n",
              "clickable and can be expanded/collapsed.\n",
              "- Pipeline and ColumnTransformer use this feature and define the default style\n",
              "- Estimators will overwrite some part of the style using the `sk-estimator` class\n",
              "*/\n",
              "\n",
              "/* Pipeline and ColumnTransformer style (default) */\n",
              "\n",
              "#sk-container-id-2 div.sk-toggleable {\n",
              "  /* Default theme specific background. It is overwritten whether we have a\n",
              "  specific estimator or a Pipeline/ColumnTransformer */\n",
              "  background-color: var(--sklearn-color-background);\n",
              "}\n",
              "\n",
              "/* Toggleable label */\n",
              "#sk-container-id-2 label.sk-toggleable__label {\n",
              "  cursor: pointer;\n",
              "  display: block;\n",
              "  width: 100%;\n",
              "  margin-bottom: 0;\n",
              "  padding: 0.5em;\n",
              "  box-sizing: border-box;\n",
              "  text-align: center;\n",
              "}\n",
              "\n",
              "#sk-container-id-2 label.sk-toggleable__label-arrow:before {\n",
              "  /* Arrow on the left of the label */\n",
              "  content: \"▸\";\n",
              "  float: left;\n",
              "  margin-right: 0.25em;\n",
              "  color: var(--sklearn-color-icon);\n",
              "}\n",
              "\n",
              "#sk-container-id-2 label.sk-toggleable__label-arrow:hover:before {\n",
              "  color: var(--sklearn-color-text);\n",
              "}\n",
              "\n",
              "/* Toggleable content - dropdown */\n",
              "\n",
              "#sk-container-id-2 div.sk-toggleable__content {\n",
              "  max-height: 0;\n",
              "  max-width: 0;\n",
              "  overflow: hidden;\n",
              "  text-align: left;\n",
              "  /* unfitted */\n",
              "  background-color: var(--sklearn-color-unfitted-level-0);\n",
              "}\n",
              "\n",
              "#sk-container-id-2 div.sk-toggleable__content.fitted {\n",
              "  /* fitted */\n",
              "  background-color: var(--sklearn-color-fitted-level-0);\n",
              "}\n",
              "\n",
              "#sk-container-id-2 div.sk-toggleable__content pre {\n",
              "  margin: 0.2em;\n",
              "  border-radius: 0.25em;\n",
              "  color: var(--sklearn-color-text);\n",
              "  /* unfitted */\n",
              "  background-color: var(--sklearn-color-unfitted-level-0);\n",
              "}\n",
              "\n",
              "#sk-container-id-2 div.sk-toggleable__content.fitted pre {\n",
              "  /* unfitted */\n",
              "  background-color: var(--sklearn-color-fitted-level-0);\n",
              "}\n",
              "\n",
              "#sk-container-id-2 input.sk-toggleable__control:checked~div.sk-toggleable__content {\n",
              "  /* Expand drop-down */\n",
              "  max-height: 200px;\n",
              "  max-width: 100%;\n",
              "  overflow: auto;\n",
              "}\n",
              "\n",
              "#sk-container-id-2 input.sk-toggleable__control:checked~label.sk-toggleable__label-arrow:before {\n",
              "  content: \"▾\";\n",
              "}\n",
              "\n",
              "/* Pipeline/ColumnTransformer-specific style */\n",
              "\n",
              "#sk-container-id-2 div.sk-label input.sk-toggleable__control:checked~label.sk-toggleable__label {\n",
              "  color: var(--sklearn-color-text);\n",
              "  background-color: var(--sklearn-color-unfitted-level-2);\n",
              "}\n",
              "\n",
              "#sk-container-id-2 div.sk-label.fitted input.sk-toggleable__control:checked~label.sk-toggleable__label {\n",
              "  background-color: var(--sklearn-color-fitted-level-2);\n",
              "}\n",
              "\n",
              "/* Estimator-specific style */\n",
              "\n",
              "/* Colorize estimator box */\n",
              "#sk-container-id-2 div.sk-estimator input.sk-toggleable__control:checked~label.sk-toggleable__label {\n",
              "  /* unfitted */\n",
              "  background-color: var(--sklearn-color-unfitted-level-2);\n",
              "}\n",
              "\n",
              "#sk-container-id-2 div.sk-estimator.fitted input.sk-toggleable__control:checked~label.sk-toggleable__label {\n",
              "  /* fitted */\n",
              "  background-color: var(--sklearn-color-fitted-level-2);\n",
              "}\n",
              "\n",
              "#sk-container-id-2 div.sk-label label.sk-toggleable__label,\n",
              "#sk-container-id-2 div.sk-label label {\n",
              "  /* The background is the default theme color */\n",
              "  color: var(--sklearn-color-text-on-default-background);\n",
              "}\n",
              "\n",
              "/* On hover, darken the color of the background */\n",
              "#sk-container-id-2 div.sk-label:hover label.sk-toggleable__label {\n",
              "  color: var(--sklearn-color-text);\n",
              "  background-color: var(--sklearn-color-unfitted-level-2);\n",
              "}\n",
              "\n",
              "/* Label box, darken color on hover, fitted */\n",
              "#sk-container-id-2 div.sk-label.fitted:hover label.sk-toggleable__label.fitted {\n",
              "  color: var(--sklearn-color-text);\n",
              "  background-color: var(--sklearn-color-fitted-level-2);\n",
              "}\n",
              "\n",
              "/* Estimator label */\n",
              "\n",
              "#sk-container-id-2 div.sk-label label {\n",
              "  font-family: monospace;\n",
              "  font-weight: bold;\n",
              "  display: inline-block;\n",
              "  line-height: 1.2em;\n",
              "}\n",
              "\n",
              "#sk-container-id-2 div.sk-label-container {\n",
              "  text-align: center;\n",
              "}\n",
              "\n",
              "/* Estimator-specific */\n",
              "#sk-container-id-2 div.sk-estimator {\n",
              "  font-family: monospace;\n",
              "  border: 1px dotted var(--sklearn-color-border-box);\n",
              "  border-radius: 0.25em;\n",
              "  box-sizing: border-box;\n",
              "  margin-bottom: 0.5em;\n",
              "  /* unfitted */\n",
              "  background-color: var(--sklearn-color-unfitted-level-0);\n",
              "}\n",
              "\n",
              "#sk-container-id-2 div.sk-estimator.fitted {\n",
              "  /* fitted */\n",
              "  background-color: var(--sklearn-color-fitted-level-0);\n",
              "}\n",
              "\n",
              "/* on hover */\n",
              "#sk-container-id-2 div.sk-estimator:hover {\n",
              "  /* unfitted */\n",
              "  background-color: var(--sklearn-color-unfitted-level-2);\n",
              "}\n",
              "\n",
              "#sk-container-id-2 div.sk-estimator.fitted:hover {\n",
              "  /* fitted */\n",
              "  background-color: var(--sklearn-color-fitted-level-2);\n",
              "}\n",
              "\n",
              "/* Specification for estimator info (e.g. \"i\" and \"?\") */\n",
              "\n",
              "/* Common style for \"i\" and \"?\" */\n",
              "\n",
              ".sk-estimator-doc-link,\n",
              "a:link.sk-estimator-doc-link,\n",
              "a:visited.sk-estimator-doc-link {\n",
              "  float: right;\n",
              "  font-size: smaller;\n",
              "  line-height: 1em;\n",
              "  font-family: monospace;\n",
              "  background-color: var(--sklearn-color-background);\n",
              "  border-radius: 1em;\n",
              "  height: 1em;\n",
              "  width: 1em;\n",
              "  text-decoration: none !important;\n",
              "  margin-left: 1ex;\n",
              "  /* unfitted */\n",
              "  border: var(--sklearn-color-unfitted-level-1) 1pt solid;\n",
              "  color: var(--sklearn-color-unfitted-level-1);\n",
              "}\n",
              "\n",
              ".sk-estimator-doc-link.fitted,\n",
              "a:link.sk-estimator-doc-link.fitted,\n",
              "a:visited.sk-estimator-doc-link.fitted {\n",
              "  /* fitted */\n",
              "  border: var(--sklearn-color-fitted-level-1) 1pt solid;\n",
              "  color: var(--sklearn-color-fitted-level-1);\n",
              "}\n",
              "\n",
              "/* On hover */\n",
              "div.sk-estimator:hover .sk-estimator-doc-link:hover,\n",
              ".sk-estimator-doc-link:hover,\n",
              "div.sk-label-container:hover .sk-estimator-doc-link:hover,\n",
              ".sk-estimator-doc-link:hover {\n",
              "  /* unfitted */\n",
              "  background-color: var(--sklearn-color-unfitted-level-3);\n",
              "  color: var(--sklearn-color-background);\n",
              "  text-decoration: none;\n",
              "}\n",
              "\n",
              "div.sk-estimator.fitted:hover .sk-estimator-doc-link.fitted:hover,\n",
              ".sk-estimator-doc-link.fitted:hover,\n",
              "div.sk-label-container:hover .sk-estimator-doc-link.fitted:hover,\n",
              ".sk-estimator-doc-link.fitted:hover {\n",
              "  /* fitted */\n",
              "  background-color: var(--sklearn-color-fitted-level-3);\n",
              "  color: var(--sklearn-color-background);\n",
              "  text-decoration: none;\n",
              "}\n",
              "\n",
              "/* Span, style for the box shown on hovering the info icon */\n",
              ".sk-estimator-doc-link span {\n",
              "  display: none;\n",
              "  z-index: 9999;\n",
              "  position: relative;\n",
              "  font-weight: normal;\n",
              "  right: .2ex;\n",
              "  padding: .5ex;\n",
              "  margin: .5ex;\n",
              "  width: min-content;\n",
              "  min-width: 20ex;\n",
              "  max-width: 50ex;\n",
              "  color: var(--sklearn-color-text);\n",
              "  box-shadow: 2pt 2pt 4pt #999;\n",
              "  /* unfitted */\n",
              "  background: var(--sklearn-color-unfitted-level-0);\n",
              "  border: .5pt solid var(--sklearn-color-unfitted-level-3);\n",
              "}\n",
              "\n",
              ".sk-estimator-doc-link.fitted span {\n",
              "  /* fitted */\n",
              "  background: var(--sklearn-color-fitted-level-0);\n",
              "  border: var(--sklearn-color-fitted-level-3);\n",
              "}\n",
              "\n",
              ".sk-estimator-doc-link:hover span {\n",
              "  display: block;\n",
              "}\n",
              "\n",
              "/* \"?\"-specific style due to the `<a>` HTML tag */\n",
              "\n",
              "#sk-container-id-2 a.estimator_doc_link {\n",
              "  float: right;\n",
              "  font-size: 1rem;\n",
              "  line-height: 1em;\n",
              "  font-family: monospace;\n",
              "  background-color: var(--sklearn-color-background);\n",
              "  border-radius: 1rem;\n",
              "  height: 1rem;\n",
              "  width: 1rem;\n",
              "  text-decoration: none;\n",
              "  /* unfitted */\n",
              "  color: var(--sklearn-color-unfitted-level-1);\n",
              "  border: var(--sklearn-color-unfitted-level-1) 1pt solid;\n",
              "}\n",
              "\n",
              "#sk-container-id-2 a.estimator_doc_link.fitted {\n",
              "  /* fitted */\n",
              "  border: var(--sklearn-color-fitted-level-1) 1pt solid;\n",
              "  color: var(--sklearn-color-fitted-level-1);\n",
              "}\n",
              "\n",
              "/* On hover */\n",
              "#sk-container-id-2 a.estimator_doc_link:hover {\n",
              "  /* unfitted */\n",
              "  background-color: var(--sklearn-color-unfitted-level-3);\n",
              "  color: var(--sklearn-color-background);\n",
              "  text-decoration: none;\n",
              "}\n",
              "\n",
              "#sk-container-id-2 a.estimator_doc_link.fitted:hover {\n",
              "  /* fitted */\n",
              "  background-color: var(--sklearn-color-fitted-level-3);\n",
              "}\n",
              "</style><div id=\"sk-container-id-2\" class=\"sk-top-container\"><div class=\"sk-text-repr-fallback\"><pre>GridSearchCV(cv=5,\n",
              "             estimator=GradientBoostingRegressor(loss=&#x27;absolute_error&#x27;,\n",
              "                                                 max_depth=10, max_features=148,\n",
              "                                                 min_samples_split=50,\n",
              "                                                 random_state=0,\n",
              "                                                 subsample=0.9),\n",
              "             param_grid={&#x27;n_estimators&#x27;: range(40, 90, 10)},\n",
              "             scoring=&#x27;neg_median_absolute_error&#x27;)</pre><b>In a Jupyter environment, please rerun this cell to show the HTML representation or trust the notebook. <br />On GitHub, the HTML representation is unable to render, please try loading this page with nbviewer.org.</b></div><div class=\"sk-container\" hidden><div class=\"sk-item sk-dashed-wrapped\"><div class=\"sk-label-container\"><div class=\"sk-label fitted sk-toggleable\"><input class=\"sk-toggleable__control sk-hidden--visually\" id=\"sk-estimator-id-2\" type=\"checkbox\" ><label for=\"sk-estimator-id-2\" class=\"sk-toggleable__label fitted sk-toggleable__label-arrow fitted\">&nbsp;&nbsp;GridSearchCV<a class=\"sk-estimator-doc-link fitted\" rel=\"noreferrer\" target=\"_blank\" href=\"https://scikit-learn.org/1.5/modules/generated/sklearn.model_selection.GridSearchCV.html\">?<span>Documentation for GridSearchCV</span></a><span class=\"sk-estimator-doc-link fitted\">i<span>Fitted</span></span></label><div class=\"sk-toggleable__content fitted\"><pre>GridSearchCV(cv=5,\n",
              "             estimator=GradientBoostingRegressor(loss=&#x27;absolute_error&#x27;,\n",
              "                                                 max_depth=10, max_features=148,\n",
              "                                                 min_samples_split=50,\n",
              "                                                 random_state=0,\n",
              "                                                 subsample=0.9),\n",
              "             param_grid={&#x27;n_estimators&#x27;: range(40, 90, 10)},\n",
              "             scoring=&#x27;neg_median_absolute_error&#x27;)</pre></div> </div></div><div class=\"sk-parallel\"><div class=\"sk-parallel-item\"><div class=\"sk-item\"><div class=\"sk-label-container\"><div class=\"sk-label fitted sk-toggleable\"><input class=\"sk-toggleable__control sk-hidden--visually\" id=\"sk-estimator-id-3\" type=\"checkbox\" ><label for=\"sk-estimator-id-3\" class=\"sk-toggleable__label fitted sk-toggleable__label-arrow fitted\">best_estimator_: GradientBoostingRegressor</label><div class=\"sk-toggleable__content fitted\"><pre>GradientBoostingRegressor(loss=&#x27;absolute_error&#x27;, max_depth=10, max_features=148,\n",
              "                          min_samples_split=50, n_estimators=70, random_state=0,\n",
              "                          subsample=0.9)</pre></div> </div></div><div class=\"sk-serial\"><div class=\"sk-item\"><div class=\"sk-estimator fitted sk-toggleable\"><input class=\"sk-toggleable__control sk-hidden--visually\" id=\"sk-estimator-id-4\" type=\"checkbox\" ><label for=\"sk-estimator-id-4\" class=\"sk-toggleable__label fitted sk-toggleable__label-arrow fitted\">&nbsp;GradientBoostingRegressor<a class=\"sk-estimator-doc-link fitted\" rel=\"noreferrer\" target=\"_blank\" href=\"https://scikit-learn.org/1.5/modules/generated/sklearn.ensemble.GradientBoostingRegressor.html\">?<span>Documentation for GradientBoostingRegressor</span></a></label><div class=\"sk-toggleable__content fitted\"><pre>GradientBoostingRegressor(loss=&#x27;absolute_error&#x27;, max_depth=10, max_features=148,\n",
              "                          min_samples_split=50, n_estimators=70, random_state=0,\n",
              "                          subsample=0.9)</pre></div> </div></div></div></div></div></div></div></div></div>"
            ]
          },
          "metadata": {},
          "execution_count": 33
        }
      ],
      "source": [
        "# candidates\n",
        "param_test_n_est = {'n_estimators': range(40, 90, 10)}\n",
        "\n",
        "# create the regressor\n",
        "gbr_n_est = GradientBoostingRegressor(loss='absolute_error', learning_rate=0.1,\n",
        "                                      max_features=len(cols), max_depth=10,\n",
        "                                      min_samples_split=50, subsample=0.9,\n",
        "                                      random_state=0)\n",
        "\n",
        "# define hyperparameter search\n",
        "gsearch = GridSearchCV(estimator= gbr_n_est, param_grid = param_test_n_est,\n",
        "                       scoring='neg_median_absolute_error', cv=5)\n",
        "\n",
        "# perform search\n",
        "gsearch.fit(X, y)"
      ]
    },
    {
      "cell_type": "code",
      "execution_count": null,
      "metadata": {
        "id": "dxwhy-PV3jGj"
      },
      "outputs": [],
      "source": [
        "# print best n_estimators\n",
        "gsearch.best_params_"
      ]
    },
    {
      "cell_type": "markdown",
      "metadata": {
        "id": "eAhPcdxM3jGj"
      },
      "source": [
        "### Step 3: Optimise tree parameters with best `n_estimators`\n",
        "\n",
        "Here we consider `max_depth` and `min_samples_split`:"
      ]
    },
    {
      "cell_type": "code",
      "execution_count": null,
      "metadata": {
        "id": "KnYgdLRy3jGj"
      },
      "outputs": [],
      "source": [
        "# candidates\n",
        "param_test_tree = {'max_depth': range(5, 16, 2),\n",
        "                   'min_samples_split': range(10, 100, 20)}\n",
        "\n",
        "# create the regressor\n",
        "gbr_tree = GradientBoostingRegressor(loss='absolute_error', learning_rate=0.1,\n",
        "                                     max_features=len(cols), subsample=0.9,\n",
        "                                     n_estimators=70, random_state=0)\n",
        "\n",
        "# define hyperparameter search\n",
        "gsearch = GridSearchCV(estimator= gbr_tree, param_grid = param_test_tree,\n",
        "                       scoring='neg_median_absolute_error', cv=5)\n",
        "\n",
        "# perform search\n",
        "gsearch.fit(X, y)"
      ]
    },
    {
      "cell_type": "code",
      "execution_count": null,
      "metadata": {
        "id": "-bqoPEHY3jGj",
        "outputId": "de9532be-7ffa-4db3-b2fe-0f9607f1bb28"
      },
      "outputs": [
        {
          "data": {
            "text/plain": [
              "{'max_depth': 7, 'min_samples_split': 10}"
            ]
          },
          "execution_count": 24,
          "metadata": {},
          "output_type": "execute_result"
        }
      ],
      "source": [
        "# print best max_depth and min_samples_split\n",
        "gsearch.best_params_"
      ]
    },
    {
      "cell_type": "markdown",
      "metadata": {
        "id": "vW57BP8Z3jGj"
      },
      "source": [
        "### Step 4: Lower `learning_rate` and increase `n_estimators`\n",
        "\n",
        "Here we use a factor of 5, so `learning_rate` is lowered to 0.02 and `n_estimators` increased to 350:"
      ]
    },
    {
      "cell_type": "code",
      "execution_count": null,
      "metadata": {
        "id": "cUpKlLjt3jGk",
        "outputId": "b12e38e0-c1ae-4c67-b4bf-42b5e99f23d5"
      },
      "outputs": [
        {
          "data": {
            "text/plain": [
              "GradientBoostingRegressor(learning_rate=0.02, loss='lad', max_depth=7,\n",
              "                          max_features=148, min_samples_split=10,\n",
              "                          n_estimators=350, random_state=0, subsample=0.9)"
            ]
          },
          "execution_count": 25,
          "metadata": {},
          "output_type": "execute_result"
        }
      ],
      "source": [
        "# create the \"optimised\" regressor\n",
        "gbr_opt = GradientBoostingRegressor(loss='absolute_error', learning_rate=0.02,\n",
        "                                    max_features=len(cols), max_depth=7,\n",
        "                                    min_samples_split=10, subsample=0.9,\n",
        "                                    n_estimators=350, random_state=0)\n",
        "\n",
        "# fit the model\n",
        "gbr_opt.fit(X, y)"
      ]
    },
    {
      "cell_type": "markdown",
      "metadata": {
        "id": "YNTf6yPp3jGk"
      },
      "source": [
        "Eventually, we can use our \"optimised\" model to make predictions and compute CV scores:"
      ]
    },
    {
      "cell_type": "code",
      "execution_count": null,
      "metadata": {
        "id": "xxZU5uvK3jGl",
        "outputId": "4876cd71-2e83-4de8-f906-2ea58877065a"
      },
      "outputs": [
        {
          "data": {
            "image/png": "[encoded data removed]",
            "text/plain": [
              "<Figure size 600x400 with 1 Axes>"
            ]
          },
          "metadata": {},
          "output_type": "display_data"
        },
        {
          "name": "stdout",
          "output_type": "stream",
          "text": [
            "Cross validation score: 0.9102752755489126\n"
          ]
        }
      ],
      "source": [
        "# make predictions\n",
        "y_pred = gbr_opt.predict(X)\n",
        "\n",
        "# plot the original and predicted data against each other\n",
        "plt.figure(dpi=100)\n",
        "plt.scatter(y, y_pred)\n",
        "plt.show()\n",
        "\n",
        "# compute cross validation score\n",
        "scores = cross_val_score(gbr_opt, X, y, cv=5, scoring='neg_mean_absolute_error')\n",
        "print('Cross validation score: {}'.format(-1 * np.mean(scores)))"
      ]
    },
    {
      "cell_type": "markdown",
      "metadata": {
        "id": "FWNCXOax3jGl"
      },
      "source": [
        "**Yes, our efforts pay off**, as shown by the figure and the CV score!"
      ]
    },
    {
      "cell_type": "markdown",
      "metadata": {
        "id": "RJBLJbOZ3jGl"
      },
      "source": [
        "---"
      ]
    },
    {
      "cell_type": "markdown",
      "metadata": {
        "id": "63oqlC1r3jGl"
      },
      "source": [
        "## Exercises\n",
        "\n",
        "Similar to [classification_decision_tree.ipynb](classification_decision_tree.ipynb), use regression trees to fit one or some of the standard \"toy\" datasets embedded in `sklearn`, such as `boston-house-prices` and `diabetes`. These datasets are less challenging than our example."
      ]
    },
    {
      "cell_type": "code",
      "execution_count": null,
      "metadata": {
        "id": "MbIZ7rVh3jGm",
        "outputId": "3cda3b73-d999-494d-d7f4-52330adf0bf1"
      },
      "outputs": [
        {
          "name": "stdout",
          "output_type": "stream",
          "text": [
            ".. _boston_dataset:\n",
            "\n",
            "Boston house prices dataset\n",
            "---------------------------\n",
            "\n",
            "**Data Set Characteristics:**  \n",
            "\n",
            "    :Number of Instances: 506 \n",
            "\n",
            "    :Number of Attributes: 13 numeric/categorical predictive. Median Value (attribute 14) is usually the target.\n",
            "\n",
            "    :Attribute Information (in order):\n",
            "        - CRIM     per capita crime rate by town\n",
            "        - ZN       proportion of residential land zoned for lots over 25,000 sq.ft.\n",
            "        - INDUS    proportion of non-retail business acres per town\n",
            "        - CHAS     Charles River dummy variable (= 1 if tract bounds river; 0 otherwise)\n",
            "        - NOX      nitric oxides concentration (parts per 10 million)\n",
            "        - RM       average number of rooms per dwelling\n",
            "        - AGE      proportion of owner-occupied units built prior to 1940\n",
            "        - DIS      weighted distances to five Boston employment centres\n",
            "        - RAD      index of accessibility to radial highways\n",
            "        - TAX      full-value property-tax rate per $10,000\n",
            "        - PTRATIO  pupil-teacher ratio by town\n",
            "        - B        1000(Bk - 0.63)^2 where Bk is the proportion of black people by town\n",
            "        - LSTAT    % lower status of the population\n",
            "        - MEDV     Median value of owner-occupied homes in $1000's\n",
            "\n",
            "    :Missing Attribute Values: None\n",
            "\n",
            "    :Creator: Harrison, D. and Rubinfeld, D.L.\n",
            "\n",
            "This is a copy of UCI ML housing dataset.\n",
            "https://archive.ics.uci.edu/ml/machine-learning-databases/housing/\n",
            "\n",
            "\n",
            "This dataset was taken from the StatLib library which is maintained at Carnegie Mellon University.\n",
            "\n",
            "The Boston house-price data of Harrison, D. and Rubinfeld, D.L. 'Hedonic\n",
            "prices and the demand for clean air', J. Environ. Economics & Management,\n",
            "vol.5, 81-102, 1978.   Used in Belsley, Kuh & Welsch, 'Regression diagnostics\n",
            "...', Wiley, 1980.   N.B. Various transformations are used in the table on\n",
            "pages 244-261 of the latter.\n",
            "\n",
            "The Boston house-price data has been used in many machine learning papers that address regression\n",
            "problems.   \n",
            "     \n",
            ".. topic:: References\n",
            "\n",
            "   - Belsley, Kuh & Welsch, 'Regression diagnostics: Identifying Influential Data and Sources of Collinearity', Wiley, 1980. 244-261.\n",
            "   - Quinlan,R. (1993). Combining Instance-Based and Model-Based Learning. In Proceedings on the Tenth International Conference of Machine Learning, 236-243, University of Massachusetts, Amherst. Morgan Kaufmann.\n",
            "\n"
          ]
        }
      ],
      "source": [
        "# load iris dataset\n",
        "boston = sklearn.datasets.load_boston()\n",
        "print(boston['DESCR'])"
      ]
    },
    {
      "cell_type": "code",
      "execution_count": null,
      "metadata": {
        "id": "pMkmi53F3jGn"
      },
      "outputs": [],
      "source": []
    }
  ],
  "metadata": {
    "kernelspec": {
      "display_name": "Python 3",
      "language": "python",
      "name": "python3"
    },
    "language_info": {
      "codemirror_mode": {
        "name": "ipython",
        "version": 3
      },
      "file_extension": ".py",
      "mimetype": "text/x-python",
      "name": "python",
      "nbconvert_exporter": "python",
      "pygments_lexer": "ipython3",
      "version": "3.8.6"
    },
    "colab": {
      "provenance": [],
      "toc_visible": true
    }
  },
  "nbformat": 4,
  "nbformat_minor": 0
}