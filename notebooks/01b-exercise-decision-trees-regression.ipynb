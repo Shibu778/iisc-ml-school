{
  "cells": [
    {
      "cell_type": "markdown",
      "metadata": {
        "id": "wF9odGkt3jGJ"
      },
      "source": [
        "# Regression using Decision Trees\n",
        "\n",
        "In this notebook, we will use decision trees to solve regression problems.\n",
        "\n",
        "The dataset used here originates from a project to build a surrogate model for predicting the band gap of a material from its composition. This surrogate model was used to replace expensive qunatum mecahnical calculations in virtual high-throughput screening of materials for application as photocatalysts. The paper was published in [Chemistry of Materials](https://pubs.acs.org/doi/abs/10.1021/acs.chemmater.9b01519).\n",
        "\n",
        "Through this practice, we can learn not only the usage of regression trees but, more importantly, how to tune hyperparameters for best performance."
      ]
    },
    {
      "cell_type": "code",
      "execution_count": null,
      "metadata": {
        "id": "eUVrDKfr3jGN"
      },
      "outputs": [],
      "source": [
        "# sklearn\n",
        "from sklearn import metrics\n",
        "from sklearn.linear_model import LinearRegression\n",
        "from sklearn.model_selection import train_test_split, cross_val_score, GridSearchCV\n",
        "from sklearn.ensemble import GradientBoostingRegressor\n",
        "import sklearn.datasets\n",
        "\n",
        "# helpers\n",
        "import pandas as pd\n",
        "import numpy as np\n",
        "import matplotlib.pyplot as plt\n",
        "plt.style.use('ggplot')"
      ]
    },
    {
      "cell_type": "code",
      "execution_count": null,
      "metadata": {
        "colab": {
          "base_uri": "https://localhost:8080/"
        },
        "id": "nKD-n6nC4Qmf",
        "outputId": "24dc4e6f-eced-463b-f2d4-b8cf663ec145"
      },
      "outputs": [],
      "source": [
        "!wget https://zenodo.org/record/4450207/files/training_data.pickle\n",
        "oxides = pd.read_pickle('./training_data.pickle')"
      ]
    },
    {
      "cell_type": "markdown",
      "metadata": {
        "id": "6glagVUT3jGS"
      },
      "source": [
        "---"
      ]
    },
    {
      "cell_type": "markdown",
      "metadata": {
        "id": "KIzdG4f-3jGT"
      },
      "source": [
        "# The Dataset\n",
        "\n",
        "Our data are stored in the pickle file `./training_data.pickle`. We load this file into a `pandas.DataFrame` object, an efficient interface to manage column-wise, heterogeneous tabular data."
      ]
    },
    {
      "cell_type": "markdown",
      "metadata": {
        "id": "QOrH7yRO3jGU"
      },
      "source": [
        "We can check all the columns presented in the dataframe:"
      ]
    },
    {
      "cell_type": "code",
      "execution_count": null,
      "metadata": {
        "colab": {
          "base_uri": "https://localhost:8080/"
        },
        "id": "Y_WoI3O63jGV",
        "outputId": "5792f2ba-694a-46cb-ef02-cfd7d86e06a2",
        "scrolled": true
      },
      "outputs": [],
      "source": [
        "list(oxides.columns)"
      ]
    },
    {
      "cell_type": "markdown",
      "metadata": {
        "id": "U9D2ovZH3jGW"
      },
      "source": [
        "To read data from one of the columns, use the `values` attribute, for example:"
      ]
    },
    {
      "cell_type": "markdown",
      "metadata": {
        "id": "cVOWk0pC3jGX"
      },
      "source": [
        "### Description of the dataset\n",
        "\n",
        "In this practical we are attempting to learn a model that can predict the band gap (energy separation between occupied and un-occupied orbitals) of a material. So we need to set this value as the property to be predicted $y$ This data is stored in the dataframe column called `gllbsc_gap` and we set this to be y by running the cell below:"
      ]
    },
    {
      "cell_type": "code",
      "execution_count": null,
      "metadata": {
        "id": "xAMVlVfF3jGX"
      },
      "outputs": [],
      "source": [
        "# read a single column\n",
        "y = oxides['gllbsc_gap'].values"
      ]
    },
    {
      "cell_type": "markdown",
      "metadata": {
        "id": "vGG-aatM3jGX"
      },
      "source": [
        "We can then use the other properties in the dataset, or a combination of them as *features* ($X$) for our model. For example we could set X to be defined by two features by running the cell below:"
      ]
    },
    {
      "cell_type": "code",
      "execution_count": null,
      "metadata": {
        "colab": {
          "base_uri": "https://localhost:8080/"
        },
        "id": "Quz0Pqea3jGY",
        "outputId": "d72f560e-a8e8-4e99-df32-223bea2b773d"
      },
      "outputs": [],
      "source": [
        "# read multiple columns and combine them to a matrix\n",
        "X = oxides[['MagpieData minimum Number', 'MagpieData maximum Number']].values\n",
        "print(X.shape)"
      ]
    },
    {
      "cell_type": "markdown",
      "metadata": {
        "id": "AN0OzHTh3jGY"
      },
      "source": [
        "## Regression with the dataset\n",
        "\n",
        "In regression, we attempt to fit a model, $y = f(x)$, where $x$ and $y$ are multi-dimensional data of rank $M$ and $N$, respectively, and $f: \\mathbb{R}^M\\rightarrow\\mathbb{R}^N$ our regression model. In this notebook, $y$ will always be `gllbsc_gap` (so $N=1$), which represents the band gap, and $x$ a combination of the descriptors (all the other columns), each giving the measurement of a certain physical property."
      ]
    },
    {
      "cell_type": "markdown",
      "metadata": {
        "id": "moc3vvnm3jGY"
      },
      "source": [
        "---"
      ]
    },
    {
      "cell_type": "markdown",
      "metadata": {
        "id": "EwCH3ThQ3jGY"
      },
      "source": [
        "# Linear regression: a starter\n",
        "\n",
        "Linear regression is the simplest regression algorithm in machine learning. Many people do not even regard it as a machine learning algorithm because it is explicitly programmed. Still, it serves as a good start to learn some basic concepts.\n",
        "\n",
        "\n",
        "## Univariate regression\n",
        "\n",
        "In univariate linear regression we have the equation:\n",
        "$y = mx + c$\n",
        "and we are attempting to find the best values for $m$ and $c$\n",
        "\n",
        "In a univariate regression, the input rank $M=1$. For instance, let us try `MagpieData avg_dev Electronegativity` as $x$:"
      ]
    },
    {
      "cell_type": "code",
      "execution_count": null,
      "metadata": {
        "id": "79PIe3Rj3jGZ"
      },
      "outputs": [],
      "source": [
        "# read X\n",
        "X = oxides['MagpieData avg_dev Electronegativity'].values\n",
        "# we need to append a dummy dimension to X for univariate regression\n",
        "# to keep the input dimensions consistent with multivariate regression\n",
        "X = X.reshape(-1, 1)\n",
        "# read y\n",
        "y = oxides['gllbsc_gap'].values"
      ]
    },
    {
      "cell_type": "markdown",
      "metadata": {
        "id": "GivGAmev3jGZ"
      },
      "source": [
        "Now we can use linear regression to fit the data and make predictions:"
      ]
    },
    {
      "cell_type": "code",
      "execution_count": null,
      "metadata": {
        "id": "bGahsNUC3jGZ"
      },
      "outputs": [],
      "source": [
        "# fit linear regression model\n",
        "model = LinearRegression().fit(X, y)\n",
        "# make predictions\n",
        "y_pred = model.predict(X)"
      ]
    },
    {
      "cell_type": "markdown",
      "metadata": {
        "id": "RGEDpwWj3jGZ"
      },
      "source": [
        "When we have fitted the model we now want to use some *metrics* to *evaluate* the model performance. Remember the mean squared error and mean absolute error from your lectures. We will now calculate them for the model:"
      ]
    },
    {
      "cell_type": "code",
      "execution_count": null,
      "metadata": {
        "colab": {
          "base_uri": "https://localhost:8080/"
        },
        "id": "xJCWbQC53jGa",
        "outputId": "a5b4cf78-a577-45e7-ac5e-1cd6e4aa3516"
      },
      "outputs": [],
      "source": [
        "# compute some fitting error\n",
        "print('MSE = %f eV' % metrics.mean_squared_error(y, y_pred))\n",
        "print('MAE = %f eV' % metrics.mean_absolute_error(y, y_pred))"
      ]
    },
    {
      "cell_type": "markdown",
      "metadata": {
        "id": "Lj66_Lmj3jGa"
      },
      "source": [
        "We can also plot the predicted versus the real values to get a visual feel for how well the fitting worked."
      ]
    },
    {
      "cell_type": "code",
      "execution_count": null,
      "metadata": {
        "colab": {
          "base_uri": "https://localhost:8080/",
          "height": 453
        },
        "id": "fGe3q4Iw3jGa",
        "outputId": "70666d18-f2ee-46b0-cb5f-72d3356643b8"
      },
      "outputs": [],
      "source": [
        "plt.figure(dpi=100)\n",
        "plt.scatter(y, y_pred)\n",
        "plt.xlabel('Eg True (eV)')\n",
        "plt.ylabel('Eg Predicted (eV)')\n",
        "plt.show()"
      ]
    },
    {
      "cell_type": "markdown",
      "metadata": {
        "id": "R2CklI3E3jGb"
      },
      "source": [
        "## Exercise\n",
        "\n",
        "By changeing the feature in the $X$ values above try a number of different features. How does it affect the quality of fitting? Report the feature and the MAE and MSE scores in the table below. *Note* to edit the contets of this cell, simply double click on the cell.\n",
        "\n",
        "| Feature | MAE (eV) | MSE (eV) |\n",
        "|---------|----------|----------|\n",
        "|         |          |          |\n",
        "|         |          |          |\n",
        "|         |          |          |\n",
        "|         |          |          |"
      ]
    },
    {
      "cell_type": "markdown",
      "metadata": {
        "id": "C7TJ3AWu3jGb"
      },
      "source": [
        "## Multivariate regression\n",
        "\n",
        "In a multivariate regression, the input rank $M>1$. Therefore, we will choose a few descriptor to form $x$. Here we choose three descriptors ($M=3$):"
      ]
    },
    {
      "cell_type": "code",
      "execution_count": null,
      "metadata": {
        "id": "g3-ZwGD53jGb"
      },
      "outputs": [],
      "source": [
        "# read X\n",
        "X = oxides[['MagpieData avg_dev CovalentRadius',\n",
        "            'MagpieData avg_dev Electronegativity',\n",
        "            'MagpieData maximum NsValence']].values"
      ]
    },
    {
      "cell_type": "markdown",
      "metadata": {
        "id": "1IciQiK83jGc"
      },
      "source": [
        "And the rest is the same as univariate regression:"
      ]
    },
    {
      "cell_type": "code",
      "execution_count": null,
      "metadata": {
        "colab": {
          "base_uri": "https://localhost:8080/",
          "height": 489
        },
        "id": "E7LV3XKH3jGd",
        "outputId": "ac1d54f2-59cd-40ce-a255-af712b8c5813"
      },
      "outputs": [],
      "source": [
        "# fit linear regression model\n",
        "model = LinearRegression().fit(X, y)\n",
        "\n",
        "# make predictions\n",
        "y_pred = model.predict(X)\n",
        "\n",
        "# compute some fitting error\n",
        "print('MSE = %f' % metrics.mean_squared_error(y, y_pred))\n",
        "print('MAE = %f' % metrics.mean_absolute_error(y, y_pred))\n",
        "\n",
        "# plot the original and predicted data against each other\n",
        "plt.figure(dpi=100)\n",
        "plt.scatter(y, y_pred)\n",
        "plt.xlabel('Eg True (eV)')\n",
        "plt.ylabel('Eg Predicted (eV)')\n",
        "plt.show()"
      ]
    },
    {
      "cell_type": "markdown",
      "metadata": {
        "id": "Z97rzeIQ3jGd"
      },
      "source": [
        "## Exercise\n",
        "\n",
        "By changeing the features in the $X$ values above try a number of different feature combinations. How does it affect the quality of fitting? Report the feature and the MAE and MSE scores in the table below. *Note* to edit the contets of this cell, simply double click on the cell.\n",
        "\n",
        "| Feature | MAE (eV) | MSE (eV) |\n",
        "|---------|----------|----------|\n",
        "|         |          |          |\n",
        "|         |          |          |\n",
        "|         |          |          |\n",
        "|         |          |          |"
      ]
    },
    {
      "cell_type": "markdown",
      "metadata": {
        "id": "tHGlbEwB3jGe"
      },
      "source": [
        "---"
      ]
    },
    {
      "cell_type": "markdown",
      "metadata": {
        "id": "evmU6ODE3jGe"
      },
      "source": [
        "# Gradient Boosting Regression\n",
        "\n",
        "Gradient boosting is a method for building an ensemble of weak learners to constitute a single strong learner. We build a series of decision trees, each subsequent tree taking in information about the residuals (errors) from the previous trees. In principle, the fitting should improve each time a new tree is added."
      ]
    },
    {
      "cell_type": "markdown",
      "metadata": {
        "id": "sVQLgotl3jGe"
      },
      "source": [
        "## 1. Create the regressor\n",
        "\n",
        "In `sklearn`, a gradient boosting regressor is created by\n",
        "\n",
        "```python\n",
        "GradientBoostingRegressor(loss=<str>, max_depth=<int>, learning_rate=<float>,\n",
        "                          min_samples_split=<int>, min_samples_leaf=<int>,\n",
        "                          max_features=<int>, subsample=<float>, n_estimators=<int>)\n",
        "```\n",
        "\n",
        "\n",
        "The hyperparameters we need to set include:\n",
        "\n",
        "* `loss`: a loss function to be minimised. We will use 'absolute_error', which is basically MAE.\n",
        "* `max_depth`: the maximum depth limits the number of nodes in the trees; its best value depends on the interaction of the input variables; we will start with 10 and can tune it later.\n",
        "* `learning_rate`: learning rate shrinks the contribution of each tree; there is a trade-off between learning rate and boosting steps; we will start with 0.015 and can tune it later.\n",
        "* `min_samples_split`: the minimum number of samples required to split an internal node; we will start with 50 and can tune it later.\n",
        "* `min_samples_leaf`: the minimum number of samples required to be at a leaf node; we set this as 1.\n",
        "* `max_features`: the number of features to consider when looking for the best split; we will use the number of features in the data (`len(oxides.columns)-1`).\n",
        "* `subsample`: the fraction of samples to be used for fitting the individual trees; if smaller than 1.0, this results in Stochastic Gradient Boosting. we will start with 0.9 and can tune it later.\n",
        "* `n_estimators`: the number of boosting steps or decision trees; we will start with 300 and can tune it later.\n",
        "\n",
        "**NOTE**: Simply adding more trees can lead to overfitting. Gradient boosting is quite robust against overfitting, but we will have to look out for this."
      ]
    },
    {
      "cell_type": "code",
      "execution_count": null,
      "metadata": {
        "id": "ClGTgDaA3jGf"
      },
      "outputs": [],
      "source": []
    },
    {
      "cell_type": "markdown",
      "metadata": {
        "id": "8MLuSE5O3jGf"
      },
      "source": [
        "## 2. Fit the regressor\n",
        "\n",
        "Here we combine all the descriptors to form $x$ and fit the model. We use `model_name.fit(X, y)`."
      ]
    },
    {
      "cell_type": "code",
      "execution_count": null,
      "metadata": {
        "colab": {
          "base_uri": "https://localhost:8080/",
          "height": 133
        },
        "id": "nGDWuCVF3jGf",
        "outputId": "b80ad8cc-ca69-4ac7-ad1d-2614e34226b0"
      },
      "outputs": [],
      "source": [
        "# combine all the columns into X\n",
        "cols = [a for a in list(oxides.columns) if a not in ['gllbsc_gap']]\n",
        "X = oxides[cols].values\n",
        "print('Shape of X: %s' % str(X.shape))\n",
        "\n",
        "# fit the model\n"
      ]
    },
    {
      "cell_type": "markdown",
      "metadata": {
        "id": "ku8ERizk3jGg"
      },
      "source": [
        "After fitting the model, we can make predictions (use `y_pred = model_name.predict(X)`) and plot them against the original data. The fit has shown a significant improvement over linear regression."
      ]
    },
    {
      "cell_type": "code",
      "execution_count": null,
      "metadata": {
        "colab": {
          "base_uri": "https://localhost:8080/",
          "height": 430
        },
        "id": "dKNEsHsa3jGg",
        "outputId": "e63ac5ba-f47c-4a84-e1ff-08b2c3bfe319"
      },
      "outputs": [],
      "source": [
        "# make predictions\n",
        "\n",
        "\n",
        "# plot the original and predicted data against each other\n",
        "plt.figure(dpi=100)\n",
        "plt.scatter(y, y_pred)\n",
        "plt.show()"
      ]
    },
    {
      "cell_type": "markdown",
      "metadata": {
        "id": "KLn5E6Fe3jGg"
      },
      "source": [
        "## 3. Cross validation\n",
        "\n",
        "Cross-validation (CV) allows us to evaluate the out-of-sample goodness-of-fit of the regressor without sparing a validation set. In the basic approach, as called the k-fold CV, the training set is split into $k$ subsets, each serving as the validation set to evaluate the model trained with the other $k-1$ subsets. This approach can be computationally expensive but does not waste too much data (as is the case when fixing an arbitrary validation set), which is a major advantage for problems with limited data. Note that a lower CV score means better goodness of fit.\n",
        "\n",
        "In the following cell, we compute the scores using 5 folds (so 20% of data for each validation) and the negative MAE as the metric. Use:\n",
        "```\n",
        "scores = cross_val_score(model_name, X, y, cv=5, scoring='neg_mean_absolute_error')\n",
        "```"
      ]
    },
    {
      "cell_type": "code",
      "execution_count": null,
      "metadata": {
        "colab": {
          "base_uri": "https://localhost:8080/"
        },
        "id": "sGzsrrQJ3jGg",
        "outputId": "5c4c7eea-9aab-4db1-88ed-f6e9d7951993"
      },
      "outputs": [],
      "source": [
        "# compute cross validation score\n",
        "\n",
        "print('Cross validation score: {}'.format(-1 * np.mean(scores)))"
      ]
    },
    {
      "cell_type": "markdown",
      "metadata": {
        "id": "NqJbBouP3jGh"
      },
      "source": [
        "## 4. Boosting rate and overfitting\n",
        "\n",
        "Let us split the dataset 80:20 into training and test sets. Re-fit the model using the training set only. We can then use some built-in methods of `GradientBoostingRegressor` to get training and test scores at each iteration of boosting. This way, we can check if we have insufficient boosting layers or perhaps we have too many and thus suffer overfitting.\n",
        "\n",
        "Use code something like the following:\n",
        "\n",
        "```python\n",
        "# fit with training set\n",
        "model_name.fit(X_train, y_train)\n",
        "\n",
        "# compute test score at each boosting step\n",
        "test_score = np.zeros((300,), dtype=np.float64)\n",
        "for i, y_pred in enumerate(model_name.staged_predict(X_test)):\n",
        "    test_score[i] = gbr._loss(y_test, y_pred)\n",
        "```"
      ]
    },
    {
      "cell_type": "code",
      "execution_count": null,
      "metadata": {
        "colab": {
          "base_uri": "https://localhost:8080/",
          "height": 430
        },
        "id": "H8MmxuXu3jGh",
        "outputId": "4fc766c7-d07d-40a4-91d4-b02a0b7a6118"
      },
      "outputs": [],
      "source": [
        "# split the dataset\n",
        "X_train, X_test, y_train, y_test = train_test_split(X, y, test_size=0.2)\n",
        "\n",
        "# fit with training set\n",
        "\n",
        "\n",
        "# compute test score at each boosting step\n",
        "\n",
        "\n",
        "# plot the scores\n",
        "plt.figure(dpi=100)\n",
        "plt.plot(gbr.train_score_, label='Loss on training set')\n",
        "plt.plot(test_score, label='Loss on test set')\n",
        "plt.legend()\n",
        "plt.show()"
      ]
    },
    {
      "cell_type": "code",
      "execution_count": null,
      "metadata": {
        "colab": {
          "base_uri": "https://localhost:8080/"
        },
        "id": "q7QzYl906HI0",
        "outputId": "d0325b14-41a4-47dc-a6fc-bc41c5aea772"
      },
      "outputs": [],
      "source": [
        "gbr._loss(y_test, y_pred)"
      ]
    },
    {
      "cell_type": "markdown",
      "metadata": {
        "id": "5hRvfNzl3jGi"
      },
      "source": [
        "Notice that the loss of both training and test are still decreasing at 300 steps. We can try to increase the boosting steps to 500 and see if we can still get improvements. If the test score stops increasing, we are probably in a good place to stop extending the model."
      ]
    },
    {
      "cell_type": "code",
      "execution_count": null,
      "metadata": {
        "colab": {
          "base_uri": "https://localhost:8080/",
          "height": 430
        },
        "id": "XKuj4Cvt3jGi",
        "outputId": "0be05bcc-bdc0-4d85-ddf0-8fbc46240020"
      },
      "outputs": [],
      "source": [
        "# create the regressor with more boosting steps\n",
        "gbr500 = GradientBoostingRegressor(loss='absolute_error', max_depth=10, learning_rate=0.015,\n",
        "                                   min_samples_split=50, min_samples_leaf=1,\n",
        "                                   max_features=len(oxides.columns)-1, subsample=0.9,\n",
        "                                   n_estimators=500)\n",
        "\n",
        "# fit with training set\n",
        "gbr500.fit(X_train, y_train)\n",
        "\n",
        "# compute test score at each boosting step\n",
        "test_score = np.zeros((500,), dtype=np.float64)\n",
        "for i, y_pred in enumerate(gbr500.staged_predict(X_test)):\n",
        "    test_score[i] = gbr500._loss(y_test, y_pred)\n",
        "\n",
        "# plot the scores\n",
        "plt.figure(dpi=100)\n",
        "plt.plot(gbr500.train_score_, label='Loss on training set')\n",
        "plt.plot(test_score, label='Loss on test set')\n",
        "plt.legend()\n",
        "plt.show()"
      ]
    },
    {
      "cell_type": "markdown",
      "metadata": {
        "id": "Il2iCF083jGi"
      },
      "source": [
        "Again, do a 5-fold cross validation at this point. How does the score compare to the earlier one?"
      ]
    },
    {
      "cell_type": "code",
      "execution_count": null,
      "metadata": {
        "colab": {
          "base_uri": "https://localhost:8080/"
        },
        "id": "qj5ujEI63jGi",
        "outputId": "9123b772-e51d-46d8-f475-3aeab8857ced"
      },
      "outputs": [],
      "source": [
        "# compute cross validation score\n",
        "scores = cross_val_score(gbr500, X, y, cv=5, scoring='neg_mean_absolute_error')\n",
        "print('Cross validation score: {}'.format(-1 * np.mean(scores)))"
      ]
    },
    {
      "cell_type": "markdown",
      "metadata": {
        "id": "gqE45SMF3jGi"
      },
      "source": [
        "##  5. Systematic hyperparameter tuning\n",
        "\n",
        "Hand tuning a large number of hyperparameters is laborious. Luckily, `sklearn` provides a function [`GridSearchCV`](https://scikit-learn.org/stable/modules/generated/sklearn.model_selection.GridSearchCV.html) to automate searches in the hyperparameter space. Even though, performing a grid-search of all of the hyperparameters at once would again lead to a combinatorial explosion. A general strategy for tuning hyperparameters in gradient boosted trees has been suggested [here](https://www.analyticsvidhya.com/blog/2016/02/complete-guide-parameter-tuning-gradient-boosting-gbm-python/).\n",
        "\n",
        "1. Choose a relatively high learning rate. Generally the default value of 0.1 works but somewhere between 0.05 to 0.2 should work for different problems.\n",
        "2. Determine the optimum number of trees for this learning rate. This should range around 40 to 90. Remember to choose a value on which your system can work fairly fast. This is because it will be used for testing various scenarios and determining the tree parameters.\n",
        "3. Tune tree-specific parameters for decided learning rate and number of trees.\n",
        "4. Lower the learning rate and increase the estimators proportionally to get more robust models.\n",
        "\n",
        "We will follow the above process to tune our regressor.\n",
        "\n",
        "\n",
        "### Step 1 & 2: Optimise `n_estimators` with `learning_rate=0.1`"
      ]
    },
    {
      "cell_type": "code",
      "execution_count": null,
      "metadata": {
        "colab": {
          "base_uri": "https://localhost:8080/",
          "height": 136
        },
        "id": "nUgzpnoR3jGi",
        "outputId": "54242cc7-99dd-493f-caae-331d8c717f91"
      },
      "outputs": [],
      "source": [
        "# candidates\n",
        "param_test_n_est = {'n_estimators': range(40, 90, 10)}\n",
        "\n",
        "# create the regressor\n",
        "gbr_n_est = GradientBoostingRegressor(loss='absolute_error', learning_rate=,\n",
        "                                      max_features=len(cols), max_depth=10,\n",
        "                                      min_samples_split=50, subsample=0.9,\n",
        "                                      random_state=0)\n",
        "\n",
        "# define hyperparameter search\n",
        "gsearch = GridSearchCV(estimator= gbr_n_est, param_grid = param_test_n_est,\n",
        "                       scoring='neg_median_absolute_error', cv=5)\n",
        "\n",
        "# perform search\n",
        "gsearch.fit(X, y)"
      ]
    },
    {
      "cell_type": "code",
      "execution_count": null,
      "metadata": {
        "id": "dxwhy-PV3jGj"
      },
      "outputs": [],
      "source": [
        "# print best n_estimators\n",
        "gsearch.best_params_"
      ]
    },
    {
      "cell_type": "markdown",
      "metadata": {
        "id": "eAhPcdxM3jGj"
      },
      "source": [
        "### Step 3: Optimise tree parameters with best `n_estimators`\n",
        "\n",
        "Here we consider `max_depth` from 5 to 16 in jumps of 2 and `min_samples_split` from 10 to 100 in jumps of 20:"
      ]
    },
    {
      "cell_type": "code",
      "execution_count": null,
      "metadata": {
        "id": "KnYgdLRy3jGj"
      },
      "outputs": [],
      "source": [
        "# candidates\n",
        "param_test_tree = {'max_depth': range(),\n",
        "                   'min_samples_split': range()}\n",
        "\n",
        "# create the regressor\n",
        "gbr_tree = GradientBoostingRegressor(loss='absolute_error', learning_rate=,\n",
        "                                     max_features=len(cols), subsample=0.9,\n",
        "                                     n_estimators=70, random_state=0)\n",
        "\n",
        "# define hyperparameter search\n",
        "gsearch = GridSearchCV(estimator= gbr_tree, param_grid = param_test_tree,\n",
        "                       scoring='neg_median_absolute_error', cv=5)\n",
        "\n",
        "# perform search\n",
        "gsearch.fit(X, y)"
      ]
    },
    {
      "cell_type": "code",
      "execution_count": null,
      "metadata": {
        "id": "-bqoPEHY3jGj",
        "outputId": "de9532be-7ffa-4db3-b2fe-0f9607f1bb28"
      },
      "outputs": [],
      "source": [
        "# print best max_depth and min_samples_split\n",
        "gsearch.best_params_"
      ]
    },
    {
      "cell_type": "markdown",
      "metadata": {
        "id": "vW57BP8Z3jGj"
      },
      "source": [
        "### Step 4: Lower `learning_rate` and increase `n_estimators`\n",
        "\n",
        "Here we use a factor of 5, so `learning_rate` is lowered to 0.02 and `n_estimators` increased to best `n_estimators` $\\times$ 5:"
      ]
    },
    {
      "cell_type": "code",
      "execution_count": null,
      "metadata": {
        "id": "cUpKlLjt3jGk",
        "outputId": "b12e38e0-c1ae-4c67-b4bf-42b5e99f23d5"
      },
      "outputs": [],
      "source": [
        "# create the \"optimised\" regressor\n",
        "gbr_opt = GradientBoostingRegressor(loss='absolute_error', learning_rate=,\n",
        "                                    max_features=len(cols), max_depth=7,\n",
        "                                    min_samples_split=10, subsample=0.9,\n",
        "                                    n_estimators=, random_state=0)\n",
        "\n",
        "# fit the model\n",
        "gbr_opt.fit(X, y)"
      ]
    },
    {
      "cell_type": "markdown",
      "metadata": {
        "id": "YNTf6yPp3jGk"
      },
      "source": [
        "Eventually, we can use our \"optimised\" model to make predictions and compute CV scores:"
      ]
    },
    {
      "cell_type": "code",
      "execution_count": null,
      "metadata": {
        "id": "xxZU5uvK3jGl",
        "outputId": "4876cd71-2e83-4de8-f906-2ea58877065a"
      },
      "outputs": [],
      "source": [
        "# make predictions\n",
        "y_pred = gbr_opt.predict(X)\n",
        "\n",
        "# plot the original and predicted data against each other\n",
        "plt.figure(dpi=100)\n",
        "plt.scatter(y, y_pred)\n",
        "plt.show()\n",
        "\n",
        "# compute cross validation score\n",
        "scores = cross_val_score(gbr_opt, X, y, cv=5, scoring='neg_mean_absolute_error')\n",
        "print('Cross validation score: {}'.format(-1 * np.mean(scores)))"
      ]
    },
    {
      "cell_type": "markdown",
      "metadata": {
        "id": "FWNCXOax3jGl"
      },
      "source": [
        "**Yes, our efforts pay off**, as shown by the figure and the CV score!"
      ]
    },
    {
      "cell_type": "markdown",
      "metadata": {
        "id": "RJBLJbOZ3jGl"
      },
      "source": [
        "---"
      ]
    },
    {
      "cell_type": "markdown",
      "metadata": {
        "id": "63oqlC1r3jGl"
      },
      "source": [
        "## Exercises\n",
        "\n",
        "Similar to [classification_decision_tree.ipynb](classification_decision_tree.ipynb), use regression trees to fit one or some of the standard \"toy\" datasets embedded in `sklearn`, such as `boston-house-prices` and `diabetes`. These datasets are less challenging than our example."
      ]
    },
    {
      "cell_type": "code",
      "execution_count": null,
      "metadata": {
        "id": "MbIZ7rVh3jGm",
        "outputId": "3cda3b73-d999-494d-d7f4-52330adf0bf1"
      },
      "outputs": [],
      "source": [
        "# load iris dataset\n",
        "boston = sklearn.datasets.load_boston()\n",
        "print(boston['DESCR'])"
      ]
    },
    {
      "cell_type": "code",
      "execution_count": null,
      "metadata": {
        "id": "pMkmi53F3jGn"
      },
      "outputs": [],
      "source": []
    }
  ],
  "metadata": {
    "colab": {
      "provenance": [],
      "toc_visible": true
    },
    "kernelspec": {
      "display_name": "Python 3",
      "language": "python",
      "name": "python3"
    },
    "language_info": {
      "codemirror_mode": {
        "name": "ipython",
        "version": 3
      },
      "file_extension": ".py",
      "mimetype": "text/x-python",
      "name": "python",
      "nbconvert_exporter": "python",
      "pygments_lexer": "ipython3",
      "version": "3.8.6"
    }
  },
  "nbformat": 4,
  "nbformat_minor": 0
}
