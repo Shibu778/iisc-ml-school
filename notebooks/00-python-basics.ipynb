{
 "cells": [
  {
   "cell_type": "markdown",
   "id": "ece0c05a",
   "metadata": {
    "id": "ece0c05a"
   },
   "source": [
    "# Variables and data types\n",
    "\n"
   ]
  },
  {
   "cell_type": "code",
   "execution_count": null,
   "id": "ac930791",
   "metadata": {
    "id": "ac930791",
    "outputId": "4fa04f66-1b3f-4a7a-b6b5-1e395b3b93ef"
   },
   "outputs": [],
   "source": [
    "# Integer\n",
    "a = 3\n",
    "print(a)\n",
    "print(type(a))"
   ]
  },
  {
   "cell_type": "code",
   "execution_count": null,
   "id": "4e0ea362",
   "metadata": {
    "id": "4e0ea362",
    "outputId": "a433f782-9031-47b9-9a01-62e4a8632bdb"
   },
   "outputs": [],
   "source": [
    "# Float\n",
    "b = 3.0\n",
    "print(b)\n",
    "print(type(b))"
   ]
  },
  {
   "cell_type": "code",
   "execution_count": null,
   "id": "72c2b522",
   "metadata": {
    "id": "72c2b522",
    "outputId": "43214cb4-6ac2-474f-b3ce-4920e67e5fa8"
   },
   "outputs": [],
   "source": [
    "# List\n",
    "c = [1,2,3,4,5]\n",
    "print(c)\n",
    "print(type(c))"
   ]
  },
  {
   "cell_type": "code",
   "execution_count": null,
   "id": "49e19bfd",
   "metadata": {
    "id": "49e19bfd",
    "outputId": "5ad9fa24-7291-4376-8951-917d2e191917"
   },
   "outputs": [],
   "source": [
    "# indexing in lists\n",
    "c[4]"
   ]
  },
  {
   "cell_type": "code",
   "execution_count": null,
   "id": "f3bbdcf7",
   "metadata": {
    "id": "f3bbdcf7",
    "outputId": "7d98c474-09b3-41ad-afa4-d4d69988d918"
   },
   "outputs": [],
   "source": [
    "# Tuple\n",
    "d = (1,2,3,4,5)\n",
    "print(d)\n",
    "print(type(d))"
   ]
  },
  {
   "cell_type": "code",
   "execution_count": null,
   "id": "02bd0e9b",
   "metadata": {
    "id": "02bd0e9b",
    "outputId": "5a3409fb-8a4e-470f-b350-62738ca5cbb4"
   },
   "outputs": [],
   "source": [
    "# indexing in tuples\n",
    "d[-1]"
   ]
  },
  {
   "cell_type": "code",
   "execution_count": null,
   "id": "ccd582f5",
   "metadata": {
    "id": "ccd582f5",
    "outputId": "dd33acfa-8536-4440-e1b8-3f2d7f231f59"
   },
   "outputs": [],
   "source": [
    "# String\n",
    "e = 'ML and AI for materials'\n",
    "print(e)\n",
    "print(type(e))"
   ]
  },
  {
   "cell_type": "code",
   "execution_count": null,
   "id": "0860d38d",
   "metadata": {
    "id": "0860d38d",
    "outputId": "c8c743af-c788-487a-df48-74565531a689"
   },
   "outputs": [],
   "source": [
    "# indexing in string\n",
    "e[2]"
   ]
  },
  {
   "cell_type": "markdown",
   "id": "fb5fc501",
   "metadata": {
    "id": "fb5fc501"
   },
   "source": [
    "## Difference between lists and tuples:\n",
    "lists can be modified but tuples can't be!"
   ]
  },
  {
   "cell_type": "code",
   "execution_count": null,
   "id": "f29d80fa",
   "metadata": {
    "id": "f29d80fa",
    "outputId": "e6895404-72ad-461c-9805-53e64b7aff34"
   },
   "outputs": [],
   "source": [
    "# modifying lists\n",
    "c = [1,2,3,4]\n",
    "c[2] = 'abc'\n",
    "c"
   ]
  },
  {
   "cell_type": "code",
   "execution_count": null,
   "id": "d7bda539",
   "metadata": {
    "id": "d7bda539",
    "outputId": "156b1305-1b3a-4c1d-dc5e-888597d2d93d"
   },
   "outputs": [],
   "source": [
    "# appending to a list\n",
    "c.append(6.3)\n",
    "c"
   ]
  },
  {
   "cell_type": "code",
   "execution_count": null,
   "id": "2c0051a8",
   "metadata": {
    "id": "2c0051a8",
    "outputId": "12e2a00f-e86c-4d06-b293-7adfcd426d58"
   },
   "outputs": [],
   "source": [
    "# modifying a tuple\n",
    "d = (1.0,2,'abc',[1,2])\n",
    "d[2] = '4'\n",
    "d"
   ]
  },
  {
   "cell_type": "markdown",
   "id": "8cfaa404",
   "metadata": {
    "id": "8cfaa404"
   },
   "source": [
    "## Dictionaries\n",
    "\n",
    "Dictionaries contain key-value pairs in \"curly\" brackets. \\\n",
    "\n",
    "Syntax:\n",
    "```python\n",
    "my_dict = {key1:value1, key2:value2, . . .}\n",
    "```\n",
    "While the 'values' can be any data type, the keys can only be \"hashable\" data types (int, float, str, tuple . . .). Lists and dictonaries are not hashable."
   ]
  },
  {
   "cell_type": "code",
   "execution_count": null,
   "id": "a1b280ac",
   "metadata": {
    "colab": {
     "base_uri": "https://localhost:8080/"
    },
    "id": "a1b280ac",
    "outputId": "dbada554-ad84-41d9-be0c-e79f0f9823f4"
   },
   "outputs": [],
   "source": [
    "f = {'conductor': 'iron',\n",
    "     'prime number': 3,\n",
    "     3.14: 'pi',\n",
    "     (1,2,3,4,5): [1,2,3,4,5]\n",
    "    }\n",
    "print(f)\n",
    "print(type(f))"
   ]
  },
  {
   "cell_type": "code",
   "execution_count": null,
   "id": "7SVgQ_9d4rCV",
   "metadata": {
    "colab": {
     "base_uri": "https://localhost:8080/"
    },
    "id": "7SVgQ_9d4rCV",
    "outputId": "02e5e4a0-dfa1-4637-b25b-78fa790e5b41"
   },
   "outputs": [],
   "source": [
    "# obtain the keys of a dict\n",
    "f.keys()"
   ]
  },
  {
   "cell_type": "code",
   "execution_count": null,
   "id": "yt0Z6ZW24v1A",
   "metadata": {
    "colab": {
     "base_uri": "https://localhost:8080/"
    },
    "id": "yt0Z6ZW24v1A",
    "outputId": "511fe28f-be23-4164-b4a8-f3a83f7d3e76"
   },
   "outputs": [],
   "source": [
    "# obtain the values of a dict\n",
    "f.values()"
   ]
  },
  {
   "cell_type": "markdown",
   "id": "b0f73b44",
   "metadata": {
    "id": "b0f73b44"
   },
   "source": [
    "To obtain a value of a dictionary, use it's corresponding key as the index"
   ]
  },
  {
   "cell_type": "code",
   "execution_count": null,
   "id": "71029323",
   "metadata": {
    "id": "71029323",
    "outputId": "58fd527f-f101-4903-ecf6-6f60a0039b7f"
   },
   "outputs": [],
   "source": [
    "# indexing dictonaries\n",
    "f['prime number']"
   ]
  },
  {
   "cell_type": "code",
   "execution_count": null,
   "id": "94b3a1ee",
   "metadata": {
    "id": "94b3a1ee",
    "outputId": "4bc5bc06-c15a-4682-fad7-b7a5d2d03b19"
   },
   "outputs": [],
   "source": [
    "# modifying dictonaries\n",
    "f['prime number'] = 2\n",
    "f['my-key'] = 'hello world'\n",
    "f"
   ]
  },
  {
   "cell_type": "markdown",
   "id": "3c093610",
   "metadata": {},
   "source": [
    "Dictionaries are also mutable like lists"
   ]
  },
  {
   "cell_type": "markdown",
   "id": "c5cfe7fb",
   "metadata": {
    "id": "c5cfe7fb"
   },
   "source": [
    "# A disclaimer on variable assignment"
   ]
  },
  {
   "cell_type": "code",
   "execution_count": 1,
   "id": "Vkl_JX2Qw844",
   "metadata": {
    "colab": {
     "base_uri": "https://localhost:8080/"
    },
    "id": "Vkl_JX2Qw844",
    "outputId": "8c7c0cf2-094b-4871-cbab-5612fe61d6b8"
   },
   "outputs": [
    {
     "name": "stdout",
     "output_type": "stream",
     "text": [
      "['abc', 2, 3, 4]\n"
     ]
    }
   ],
   "source": [
    "a = [1,2,3,4]\n",
    "b = a\n",
    "b[0] = 'abc'\n",
    "\n",
    "print(b)\n",
    "\n",
    "# What should a contain? Find out!"
   ]
  },
  {
   "cell_type": "markdown",
   "id": "8mNfQo2myw0X",
   "metadata": {
    "id": "8mNfQo2myw0X"
   },
   "source": [
    "<details>\n",
    "<summary>Note on the above observation:</summary>\n",
    "\n",
    "In Python, variables are names that refer to objects in memory. When you assign a value to a variable, you're essentially creating a reference to the object in memory, not storing the object itself in the variable. The object itself (such as a list, string, integer, etc.) is stored elsewhere in memory, and the variable points to it.\n",
    "\n",
    "When you assign one variable to another in Python, you're actually copying the reference (not the object itself) to the new variable. Both variables will point to the same object in memory, which is why changes made through one variable affect the other.\n",
    "\n",
    "A copy of the data can be made as follows:\n",
    "\n",
    "\n",
    "```python\n",
    "from copy import deepcopy\n",
    "\n",
    "a = [1,2,3,4]\n",
    "b = deepcopy(a)\n",
    "b[0] = 'abc'\n",
    "\n",
    "print(b)\n",
    "print(a)\n",
    "```\n",
    "\n",
    "</details>\n"
   ]
  },
  {
   "cell_type": "markdown",
   "id": "a2d9a9fa",
   "metadata": {
    "id": "a2d9a9fa"
   },
   "source": [
    "# Loops\n",
    "\n",
    "syntax:\n",
    "```python\n",
    "for i in iterable:\n",
    "  # your code\n",
    "```\n",
    "\n",
    "```python\n",
    "while condition:\n",
    "  # your code\n",
    "```"
   ]
  },
  {
   "cell_type": "code",
   "execution_count": 2,
   "id": "6e716cc9",
   "metadata": {
    "colab": {
     "base_uri": "https://localhost:8080/"
    },
    "id": "6e716cc9",
    "outputId": "7a9a6ddf-0ef9-4e66-8dad-35c0ce2ba674"
   },
   "outputs": [
    {
     "name": "stdout",
     "output_type": "stream",
     "text": [
      "1\n",
      "2\n",
      "3\n",
      "4\n",
      "5\n"
     ]
    }
   ],
   "source": [
    "a = ['1','2','3','4','5']\n",
    "\n",
    "for i in a:\n",
    "    print(i)"
   ]
  },
  {
   "cell_type": "code",
   "execution_count": 3,
   "id": "2a97c9db",
   "metadata": {
    "id": "2a97c9db",
    "outputId": "4e142b9f-909f-4d17-d5f0-425d7b6e1ff5"
   },
   "outputs": [],
   "source": [
    "a = [1,2,3,4,5]\n",
    "\n",
    "# Loop through the above list to find the sum of integers in the list"
   ]
  },
  {
   "cell_type": "markdown",
   "id": "4a23b28d",
   "metadata": {
    "id": "4a23b28d"
   },
   "source": [
    "<details>\n",
    "<summary>Solution:</summary>\n",
    "\n",
    "```python\n",
    "s = 0\n",
    "for i in a:\n",
    "    s = s+i\n",
    "print(s)\n",
    "\n",
    "```\n",
    "\n",
    "</details>"
   ]
  },
  {
   "cell_type": "markdown",
   "id": "c0ac358b",
   "metadata": {
    "id": "c0ac358b"
   },
   "source": [
    "# If-else blocks\n",
    "\n",
    "syntax:\n",
    "```python\n",
    "if condition:\n",
    "  # your code\n",
    "\n",
    "elif condition:\n",
    "  # your code\n",
    "\n",
    "else:\n",
    "  # your code\n",
    "```"
   ]
  },
  {
   "cell_type": "code",
   "execution_count": 4,
   "id": "9dffe893",
   "metadata": {
    "colab": {
     "base_uri": "https://localhost:8080/"
    },
    "id": "9dffe893",
    "outputId": "181afb78-3a66-4214-ab04-e047cbe79c4c"
   },
   "outputs": [
    {
     "name": "stdout",
     "output_type": "stream",
     "text": [
      "between 12 and 50\n"
     ]
    }
   ],
   "source": [
    "a = 42\n",
    "\n",
    "if a < 12:\n",
    "    print('less than 12')\n",
    "\n",
    "elif a < 50:\n",
    "    print('between 12 and 50')\n",
    "\n",
    "else:\n",
    "    print('greater than 50')"
   ]
  },
  {
   "cell_type": "code",
   "execution_count": 5,
   "id": "bc6a6d77",
   "metadata": {
    "id": "bc6a6d77"
   },
   "outputs": [],
   "source": [
    "a = [21, 13, 44 ,'abc', [1,2,3], '8.2', 3]\n",
    "\n",
    "# loop through each element of the above list and print all 'str' type objects"
   ]
  },
  {
   "cell_type": "markdown",
   "id": "415e2feb",
   "metadata": {
    "id": "415e2feb"
   },
   "source": [
    "<details>\n",
    "<summary>Solution:</summary>\n",
    "    \n",
    "```python\n",
    "for i in a:\n",
    "    if isinstance(i, str):\n",
    "        print(i)\n",
    "```\n",
    "</details>"
   ]
  },
  {
   "cell_type": "markdown",
   "id": "58d1c4ef",
   "metadata": {
    "id": "58d1c4ef"
   },
   "source": [
    "# Functions\n",
    "\n",
    "Funtions are used to condense a long piece of code into a single line. Functions may or maynot return an output. \\\n",
    "\n",
    "Naming conventions for functions: lowercase letters with words separated by underscores. \\\n",
    "\n",
    "syntax:\n",
    "```python\n",
    "def my_function(x, y, z . . .):\n",
    "    # necessary code\n",
    "    .\n",
    "    .\n",
    "    .\n",
    "    return a, b, c . . .\n",
    "```"
   ]
  },
  {
   "cell_type": "code",
   "execution_count": 6,
   "id": "94f56995",
   "metadata": {
    "id": "94f56995"
   },
   "outputs": [],
   "source": [
    "def fib(x):\n",
    "    fib_series = [0,1]\n",
    "\n",
    "    if x > 1:\n",
    "        for i in range(x-2):\n",
    "            fib_series.append(fib_series[-1] + fib_series[-2])\n",
    "\n",
    "    return fib_series"
   ]
  },
  {
   "cell_type": "code",
   "execution_count": 7,
   "id": "ec62192a",
   "metadata": {
    "colab": {
     "base_uri": "https://localhost:8080/"
    },
    "id": "ec62192a",
    "outputId": "ee2879b9-75e3-42fb-e52c-76fdeb3f9d4c"
   },
   "outputs": [
    {
     "data": {
      "text/plain": [
       "[0, 1, 1, 2, 3]"
      ]
     },
     "execution_count": 7,
     "metadata": {},
     "output_type": "execute_result"
    }
   ],
   "source": [
    "# calling a function\n",
    "fib(x=5)"
   ]
  },
  {
   "cell_type": "code",
   "execution_count": 8,
   "id": "f21a9ba2",
   "metadata": {
    "id": "f21a9ba2"
   },
   "outputs": [],
   "source": [
    "# create a function say_hello() which takes the name of a person and prints a message saying hello to that person\n"
   ]
  },
  {
   "cell_type": "markdown",
   "id": "2e836873",
   "metadata": {
    "id": "2e836873"
   },
   "source": [
    "<details>\n",
    "<summary>Solution:</summary>\n",
    "    \n",
    "```python\n",
    "def say_hello(x):\n",
    "    print('Hello {}!!'.format(x))\n",
    "\n",
    "say_hello('Sougat')\n",
    "```\n",
    "</details>"
   ]
  },
  {
   "cell_type": "markdown",
   "id": "33ec0d31",
   "metadata": {
    "id": "33ec0d31"
   },
   "source": [
    "# Classes\n",
    "\n",
    "Classes are the blue-prints of a data-type (like lists, tuples, dictionaries) and can be used to create our own custom data-types.\n",
    "\n",
    "The building blocks of classes are functions and variables. Functions inside classes are called '**methods**' and variables inside classes are called '**attributes**'.\n",
    "\n",
    "Naming conventions for classes: 'CapWords' where each word in the name begins with a capital letter, and there are no underscores between words.\n",
    "\n",
    "syntax:\n",
    "```python\n",
    "class MyClass():\n",
    "  def __init__(self, a, b, c, . . .):\n",
    "    # attributes\n",
    "    self.attribute1 = a\n",
    "    self.attribute2 = b\n",
    "\n",
    "    # rest of your code\n",
    "\n",
    "  def my_method_1(self, p, q, r, . . .):\n",
    "    # your code\n",
    "    .\n",
    "    .\n",
    "    .\n",
    "  def my_method_2(self, x, y, z, . . .):\n",
    "    # your code\n",
    "    .\n",
    "    .\n",
    "    .\n",
    "```\n",
    "\n",
    "The \\_\\_init\\_\\_() method is a sepcial function called a 'magic method' or 'dunder method'. It gets called every time a new instance (object) of the class is created."
   ]
  },
  {
   "cell_type": "code",
   "execution_count": null,
   "id": "374bec7f",
   "metadata": {
    "id": "374bec7f"
   },
   "outputs": [],
   "source": [
    "# defining a class named Material\n",
    "class Material():\n",
    "\n",
    "    def __init__(reserved_var, name, state, density):\n",
    "        reserved_var.n = name\n",
    "        reserved_var.s = state\n",
    "        reserved_var.d = density\n",
    "\n",
    "    def get_nickname(res_var, symbol=None):\n",
    "        if not symbol:\n",
    "            symbol = res_var.n[0:2]\n",
    "        res_var.nickname = symbol.lower()\n",
    "\n",
    "        return symbol.capitalize()"
   ]
  },
  {
   "cell_type": "code",
   "execution_count": null,
   "id": "8a5a9fd8",
   "metadata": {
    "id": "8a5a9fd8",
    "outputId": "5266a342-1943-4b48-842a-d9a945d6dfcb"
   },
   "outputs": [],
   "source": [
    "# creating an object: an instance of a class\n",
    "aluminum  = Material('Aluminum', 'solid', 2.7)\n",
    "print(type(aluminum))"
   ]
  },
  {
   "cell_type": "code",
   "execution_count": null,
   "id": "fec4231e",
   "metadata": {
    "id": "fec4231e",
    "outputId": "01492b8f-5b7e-4014-d74c-1e15fd67b71b"
   },
   "outputs": [],
   "source": [
    "# accessing attributes of the class\n",
    "aluminum.d"
   ]
  },
  {
   "cell_type": "code",
   "execution_count": null,
   "id": "4f4d2380",
   "metadata": {
    "id": "4f4d2380",
    "outputId": "48d046cc-a345-4859-8ecb-b1b7eaefb006"
   },
   "outputs": [],
   "source": [
    "aluminum.nickname"
   ]
  },
  {
   "cell_type": "code",
   "execution_count": null,
   "id": "fd8a8061",
   "metadata": {
    "id": "fd8a8061",
    "outputId": "d86ed8e1-9698-4d8d-90a4-d99a9df41b07"
   },
   "outputs": [],
   "source": [
    "# calling methods\n",
    "aluminum.get_nickname()"
   ]
  },
  {
   "cell_type": "code",
   "execution_count": null,
   "id": "661809e6",
   "metadata": {
    "id": "661809e6",
    "outputId": "0aa72bf9-04a1-4ed5-a30b-c8e9a291f9f5"
   },
   "outputs": [],
   "source": [
    "aluminum.nickname"
   ]
  },
  {
   "cell_type": "markdown",
   "id": "c769d016",
   "metadata": {
    "id": "c769d016"
   },
   "source": [
    "## Inheriting a class\n",
    "\n",
    "The inheriting class by default contains all the attributes and methods of the base class unless they are modified"
   ]
  },
  {
   "cell_type": "code",
   "execution_count": null,
   "id": "66e7dcfb",
   "metadata": {
    "id": "66e7dcfb"
   },
   "outputs": [],
   "source": [
    "# inherit from the class Material\n",
    "class Conductor(Material):\n",
    "    pass"
   ]
  },
  {
   "cell_type": "code",
   "execution_count": null,
   "id": "ed171649",
   "metadata": {
    "id": "ed171649",
    "outputId": "c604d347-0f70-4f50-e93c-6b39571bca8e"
   },
   "outputs": [],
   "source": [
    "# Conductor class by default inherits every attribute and method from the Material class\n",
    "silver = Conductor(name='Silver', state='solid', density=10.5)\n",
    "\n",
    "print(silver.n)\n",
    "\n",
    "print(silver.get_nickname())"
   ]
  },
  {
   "cell_type": "code",
   "execution_count": null,
   "id": "7f22eed3",
   "metadata": {
    "id": "7f22eed3"
   },
   "outputs": [],
   "source": [
    "class SemiConductor(Material):\n",
    "\n",
    "    def __init__(self, name, state, density, band_gap):\n",
    "\n",
    "        super().__init__(name, state, density)\n",
    "\n",
    "        self.band_gap = band_gap"
   ]
  },
  {
   "cell_type": "code",
   "execution_count": null,
   "id": "7d23b296",
   "metadata": {
    "id": "7d23b296"
   },
   "outputs": [],
   "source": [
    "silicon = SemiConductor('Silicon', 'solid', 2.65, 1.1)"
   ]
  },
  {
   "cell_type": "code",
   "execution_count": null,
   "id": "9c6c8d78",
   "metadata": {
    "id": "9c6c8d78",
    "outputId": "6de91144-7021-4769-f89c-5e7bffca2af5"
   },
   "outputs": [],
   "source": [
    "# calling attributes from Base class\n",
    "silicon.d"
   ]
  },
  {
   "cell_type": "code",
   "execution_count": null,
   "id": "2979704e",
   "metadata": {
    "id": "2979704e",
    "outputId": "4edd236f-428a-4938-e5b4-4acfe8e82c99"
   },
   "outputs": [],
   "source": [
    "# calling newly defined attribues\n",
    "silicon.band_gap"
   ]
  },
  {
   "cell_type": "code",
   "execution_count": null,
   "id": "2830f9e4",
   "metadata": {
    "id": "2830f9e4",
    "outputId": "56347873-610e-4f2a-ec0f-c44f8b691b90"
   },
   "outputs": [],
   "source": [
    "# calling methods form the Base class\n",
    "silicon.get_nickname()"
   ]
  },
  {
   "cell_type": "code",
   "execution_count": null,
   "id": "4324ca4a",
   "metadata": {
    "id": "4324ca4a"
   },
   "outputs": [],
   "source": [
    "# Construct a class Insulator that inherits from the class Material and add a new method get_badgap()\n",
    "# which returns a string \"really high\"\n",
    "\n",
    "\n",
    "\n",
    "# create an Insulator object with name = 'Wood', state = 'solid' and density = 0.9 and\n",
    "# call the get_bandgap() and get_nickname() methods\n"
   ]
  },
  {
   "cell_type": "markdown",
   "id": "dd110a81",
   "metadata": {
    "id": "dd110a81"
   },
   "source": [
    "<details>\n",
    "<summary>Solution:</summary>\n",
    "    \n",
    "```python\n",
    "# define the calss Insulator\n",
    "class Insulator(Material):\n",
    "    \n",
    "    def get_bandgap(self):\n",
    "        return \"really high\"\n",
    "\n",
    "# create an object wood\n",
    "wood = Insulator(name = 'Wood', state = 'solid', density = 0.9)\n",
    "\n",
    "# print the outputs of the methods\n",
    "print(wood.get_bandgap())\n",
    "print(wood.get_nickname())\n",
    "```\n",
    "</details>"
   ]
  },
  {
   "cell_type": "markdown",
   "id": "484103e7",
   "metadata": {
    "id": "484103e7"
   },
   "source": [
    "# Importing Modules\n",
    "\n",
    "Modules are files usually with .py extension that contain pre-written classes and functions.\n",
    "\n",
    "Packages are directories that contain modules\n",
    "\n",
    "An instance 'c_object' of a class 'C' from a module 'm.py' in a package 'p' can be made as:\n",
    "\n",
    "```python\n",
    "# method 1 (Import the class directly)\n",
    "from p.m import C\n",
    "c_object = C()\n",
    "\n",
    "# method 2 (Rename the class with 'as' keyword)\n",
    "from p.m import C as ReqClass\n",
    "c_object = ReqClass()\n",
    "\n",
    "# method 3 (Import the entire module and access the class)\n",
    "import p.m as req_mod\n",
    "c_object = req_mod.C\n",
    "```"
   ]
  },
  {
   "cell_type": "code",
   "execution_count": null,
   "id": "b9eadc90",
   "metadata": {
    "id": "b9eadc90"
   },
   "outputs": [],
   "source": [
    "import numpy as np\n",
    "import pandas as pd"
   ]
  },
  {
   "cell_type": "markdown",
   "id": "2da4c6b5",
   "metadata": {
    "id": "2da4c6b5"
   },
   "source": [
    "## Numpy\n",
    "Numpy is a package for numerical computing which provides support for large, multi-dimensional arrays and matrices, along with a collection of mathematical functions to operate on these arrays efficiently."
   ]
  },
  {
   "cell_type": "code",
   "execution_count": null,
   "id": "a1f513c0",
   "metadata": {
    "colab": {
     "base_uri": "https://localhost:8080/"
    },
    "id": "a1f513c0",
    "outputId": "60043d29-00fa-478d-b97b-d1b571801bb6"
   },
   "outputs": [],
   "source": [
    "# creating an array\n",
    "a = np.array([1,2,3,4])\n",
    "print(a)\n",
    "print(type(a))"
   ]
  },
  {
   "cell_type": "code",
   "execution_count": null,
   "id": "576abd9a",
   "metadata": {
    "colab": {
     "base_uri": "https://localhost:8080/"
    },
    "id": "576abd9a",
    "outputId": "1599dcc3-1dca-47d1-da92-53db17fd4236"
   },
   "outputs": [],
   "source": [
    "# difference between lists and numpy.ndarrays\n",
    "a = [1,2,3,4]\n",
    "a_array = np.array(a)\n",
    "\n",
    "b = [4,5,6,7]\n",
    "b_array = np.array(b)\n",
    "\n",
    "print(a+b)\n",
    "print(a_array+b_array)"
   ]
  },
  {
   "cell_type": "code",
   "execution_count": null,
   "id": "cf5b4714",
   "metadata": {
    "id": "cf5b4714"
   },
   "outputs": [],
   "source": [
    "# create a 3 by 3 matrix of np.ndarray object\n"
   ]
  },
  {
   "cell_type": "markdown",
   "id": "ok4t7MFDLVJd",
   "metadata": {
    "id": "ok4t7MFDLVJd"
   },
   "source": [
    "<details>\n",
    "<summary>Solution:</summary>\n",
    "    \n",
    "```python\n",
    "mat = np.array([[1,2,3],[4,5,6],[7,8,9]])\n",
    "```\n",
    "</details>"
   ]
  },
  {
   "cell_type": "code",
   "execution_count": null,
   "id": "-Sztwqg-NUT8",
   "metadata": {
    "colab": {
     "base_uri": "https://localhost:8080/"
    },
    "id": "-Sztwqg-NUT8",
    "outputId": "7927fdfe-5ff1-4397-9311-12295c67e701"
   },
   "outputs": [],
   "source": [
    "# creating a random array\n",
    "a = np.random.random((2,3))\n",
    "a"
   ]
  },
  {
   "cell_type": "markdown",
   "id": "2GXDHkQcOvZm",
   "metadata": {
    "id": "2GXDHkQcOvZm"
   },
   "source": [
    "Notice that every time the above cell is run, we get different random numbers in the array. This makes it difficult to reproduce the results of a code that uses 'random' numbers.\n",
    "\n",
    "Reproducability of the code (across time and computers) can be ensured by using the same 'seed' for generating random numbers as shown below"
   ]
  },
  {
   "cell_type": "code",
   "execution_count": null,
   "id": "i5scWmmTNU8Z",
   "metadata": {
    "colab": {
     "base_uri": "https://localhost:8080/"
    },
    "id": "i5scWmmTNU8Z",
    "outputId": "89d92708-01a6-4288-fc78-3248055aa571"
   },
   "outputs": [],
   "source": [
    "# generating reproducable random numbers\n",
    "np.random.seed(10)\n",
    "a = np.random.random((2,3))\n",
    "a"
   ]
  },
  {
   "cell_type": "markdown",
   "id": "b28c3738",
   "metadata": {
    "id": "b28c3738"
   },
   "source": [
    "## Pandas\n",
    "Pandas is a package for data analysis. It is built on top of Numpy and provides high-level data structures and tools for working with structured data."
   ]
  },
  {
   "cell_type": "code",
   "execution_count": null,
   "id": "nKD-n6nC4Qmf",
   "metadata": {
    "colab": {
     "base_uri": "https://localhost:8080/"
    },
    "id": "nKD-n6nC4Qmf",
    "outputId": "c07952cd-2813-4c76-e3e2-767d1beadbb7"
   },
   "outputs": [],
   "source": [
    "# import data using pandas\n",
    "!wget https://zenodo.org/record/4450207/files/training_data.pickle\n",
    "df = pd.read_pickle('./training_data.pickle')"
   ]
  },
  {
   "cell_type": "code",
   "execution_count": null,
   "id": "2c77c941",
   "metadata": {
    "colab": {
     "base_uri": "https://localhost:8080/",
     "height": 478
    },
    "id": "2c77c941",
    "outputId": "93af91ad-b3fe-433d-d451-b27c136a3b53"
   },
   "outputs": [],
   "source": [
    "df"
   ]
  },
  {
   "cell_type": "code",
   "execution_count": null,
   "id": "fd30ec5c",
   "metadata": {
    "id": "fd30ec5c"
   },
   "outputs": [],
   "source": []
  }
 ],
 "metadata": {
  "colab": {
   "provenance": [],
   "toc_visible": true
  },
  "kernelspec": {
   "display_name": "Python 3 (ipykernel)",
   "language": "python",
   "name": "python3"
  },
  "language_info": {
   "codemirror_mode": {
    "name": "ipython",
    "version": 3
   },
   "file_extension": ".py",
   "mimetype": "text/x-python",
   "name": "python",
   "nbconvert_exporter": "python",
   "pygments_lexer": "ipython3",
   "version": "3.9.13"
  }
 },
 "nbformat": 4,
 "nbformat_minor": 5
}
