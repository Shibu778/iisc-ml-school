{
  "cells": [
    {
      "cell_type": "markdown",
      "metadata": {
        "id": "OmPqHuIUABOF"
      },
      "source": [
        "# Equivariant Machine Learned Interatomic Potentials Models\n",
        "\n",
        "Created by ***Debsundar Dey*** and ***Tejus Rohatgi***\n",
        "\n",
        "This tutorial aims to demonstrate two state-of-the-art MLIP models, **NequIP** and **MACE**."
      ]
    },
    {
      "cell_type": "markdown",
      "metadata": {
        "id": "lrx1JHAAAriO"
      },
      "source": [
        "## Table of Contents\n",
        "0. [Before Starting](#prep)\n",
        "1. [Dataset](#dataset)\n",
        "    *   [BOTNET Dataset](#botnet)\n",
        "    *   [Visualising Dataset](#visualise)\n",
        "2. [NequIP](#nequip)\n",
        "    * [Introduction](#nequip-intro)\n",
        "    * [Installing NequIP](#nequip-install)\n",
        "    * [Configuration](#nequip-config)\n",
        "    * [Training NequIP](#nequip-training)\n",
        "    * [Molecular Dynamics using NequIP](#nequip-md)\n",
        "3. [MACE](#mace)\n",
        "    * [Introduction](#mace-intro)\n",
        "    * [Installing MACE](#mace-install)\n",
        "    * [Configuration](#mace-config)\n",
        "    * [Training MACE](#mace-training)\n",
        "    * [Molecular Dynamics using MACE](#mace-md)\n",
        "4. [Exercises](#exercises)\n",
        "5. [BONUS: Visualizing `.xyz` files](#ovito)\n",
        "    \n",
        "\n",
        "\n",
        "\n"
      ]
    },
    {
      "cell_type": "markdown",
      "metadata": {
        "id": "JS3EMfw2BPkK"
      },
      "source": [
        "## 0. Before Starting <a name=\"prep\"></a>"
      ]
    },
    {
      "cell_type": "code",
      "execution_count": null,
      "metadata": {
        "id": "MPzQIgq7kiXw"
      },
      "outputs": [],
      "source": [
        "# Install necessary packages and dependencies\n",
        "!pip install ase\n",
        "!pip install e3nn==0.4.4\n",
        "!pip install opt_einsum\n",
        "!pip install torch_ema\n",
        "!pip install prettytable"
      ]
    },
    {
      "cell_type": "code",
      "execution_count": null,
      "metadata": {
        "id": "B9E0SiPbUaRm"
      },
      "outputs": [],
      "source": [
        "# Import necessary libraries\n",
        "import os\n",
        "from pathlib import Path\n",
        "import yaml\n",
        "import pandas as pd\n",
        "import matplotlib.pyplot as plt\n",
        "import numpy as np\n",
        "import json\n",
        "import ase\n",
        "import random\n",
        "import time\n",
        "import pylab as pl\n",
        "import torch\n",
        "\n",
        "random.seed(123)"
      ]
    },
    {
      "cell_type": "code",
      "source": [
        "device = torch.device('cuda' if torch.cuda.is_available() else 'cpu')\n",
        "device.type"
      ],
      "metadata": {
        "id": "NtiN4NLtx7rk"
      },
      "execution_count": null,
      "outputs": []
    },
    {
      "cell_type": "markdown",
      "metadata": {
        "id": "nPYtOJByWcbD"
      },
      "source": [
        "## 1. Dataset <a name=\"dataset\"></a>\n",
        "The dataset plays a crucial role in training and evaluating Machine Learning Interatomic Potential (MLIP) models. Its quality, diversity, and relevance significantly impact the performance and generalizability of the MLIP. The dataset provides the atomic configurations and corresponding properties (e.g., energy, forces, stress) that the MLIP aims to predict.\n"
      ]
    },
    {
      "cell_type": "markdown",
      "source": [
        "\n",
        "### 1.1. BOTNET Dataset <a name=\"botnet\"></a>\n",
        "We will be working on the [BOTNET](https://github.com/davkovacs/BOTNet-datasets) collection of dataset used in the paper by [Batatia et.al](https://arxiv.org/abs/2205.06643). The collection contains the following datasets:\n",
        "\n",
        "1. **Ethanol and Methanol:** Consists of two training datasets, first taken revMD17 dataset and was sampled from a long 500 K Ab Initio molecular dynamics trajectory and the second training set contains the 1000 ethanol geometries of the first training set but is augmented by 300 K methanol geometries also sampled from 500 K Ab Initio molecular dynamics simulation.\n",
        "2. **3BPA:** Dataset contains snapshots of a large flexible drug-like organic molecule sampled from different temperature molecular dynamics trajectories.\n",
        "3. **Acetylacetone:** Dataset contains data related to acetylacetone (acac), specifically focusing on proton transfer reactions between its tautomeric forms. This dataset includes configurations obtained from Ab Initio molecular dynamics simulations at 300 K and 600 K."
      ],
      "metadata": {
        "id": "5IOhKtYRKuyg"
      }
    },
    {
      "cell_type": "code",
      "execution_count": null,
      "metadata": {
        "id": "4Ak6A2zwWbyg"
      },
      "outputs": [],
      "source": [
        "# Downloading BOTNet Datset\n",
        "!git clone https://github.com/davkovacs/BOTNet-datasets.git"
      ]
    },
    {
      "cell_type": "code",
      "execution_count": null,
      "metadata": {
        "id": "e7670dZ7ZN7Q"
      },
      "outputs": [],
      "source": [
        "!ls BOTNet-datasets/dataset_ethanol"
      ]
    },
    {
      "cell_type": "code",
      "execution_count": null,
      "metadata": {
        "id": "Xzoz-yVIZfod"
      },
      "outputs": [],
      "source": [
        "!ls BOTNet-datasets/dataset_3BPA"
      ]
    },
    {
      "cell_type": "code",
      "execution_count": null,
      "metadata": {
        "id": "MaHCqNnAZiZd"
      },
      "outputs": [],
      "source": [
        "!ls BOTNet-datasets/dataset_acac"
      ]
    },
    {
      "cell_type": "markdown",
      "metadata": {
        "id": "_IOAn3SZZpVx"
      },
      "source": [
        "We will be working with **[Acetylacetone dataset](https://github.com/davkovacs/BOTNet-datasets/tree/main/dataset_acac)** in this tutorial.\n",
        "\n"
      ]
    },
    {
      "cell_type": "markdown",
      "metadata": {
        "id": "wpwyTMb7UKCz"
      },
      "source": [
        "### 1.2. Visualising Dataset <a name=\"visualise\"></a>\n",
        "\n",
        "We will utilise the `ase` package to get more information about the datset we are looking on. Let's start with `dataset_acac/train_300K.xyz`.\n",
        "\n"
      ]
    },
    {
      "cell_type": "code",
      "execution_count": null,
      "metadata": {
        "id": "G4800Pi61eNm"
      },
      "outputs": [],
      "source": [
        "from ase.io import read, write\n",
        "\n",
        "# Load the dataset\n",
        "dataset = read(\"BOTNet-datasets/dataset_acac/train_300K.xyz\", index=\":\")\n",
        "dataset[0]"
      ]
    },
    {
      "cell_type": "code",
      "execution_count": null,
      "metadata": {
        "id": "W-oZTg5z2ToL"
      },
      "outputs": [],
      "source": [
        "num_configs = len(dataset)\n",
        "print(f\"Number of configurations in the dataset: {num_configs}\")"
      ]
    },
    {
      "cell_type": "markdown",
      "source": [
        "Let's utilise `ase.visualize` module to visualize the first few configurations in the datset."
      ],
      "metadata": {
        "id": "-GJaHjkBKYvo"
      }
    },
    {
      "cell_type": "code",
      "execution_count": null,
      "metadata": {
        "id": "T7gWmNJ57Ani"
      },
      "outputs": [],
      "source": [
        "from ase.visualize.plot import plot_atoms\n",
        "import matplotlib.pyplot as plt\n",
        "\n",
        "# Create nine subplots with an increased figure size\n",
        "fig, ax = plt.subplots(nrows=3, ncols=3, figsize=(10, 6), sharex=True, sharey=True)\n",
        "\n",
        "for i, ax_i in enumerate(ax.flat):  # using ax.flat to iterate through the subplots\n",
        "    plot_atoms(dataset[i], ax_i)\n",
        "    ax_i.axis('off')\n",
        "    ax_i.set_xlim(0, 10)  # To zoom\n",
        "    ax_i.set_ylim(0, 10)  # To zoom\n",
        "plt.show()"
      ]
    },
    {
      "cell_type": "markdown",
      "metadata": {
        "id": "CfjaMrNcBeK4"
      },
      "source": [
        "## 2. NequIP <a name=\"nequip\"></a>\n",
        "\n"
      ]
    },
    {
      "cell_type": "markdown",
      "source": [
        "\n",
        "### 2.1. Introduction <a name=\"nequip-intro\"></a>\n",
        "\n",
        "Welcome to the *NequIP Tutorial with Molecular Dynamics*, where we’ll train a NequIP model with AIMD data and use it for MD simulations! Think of this as a speedrun through the molecular jungle—we might skip some scenic routes (a.k.a. deep physical intuition), but we’ll get you to the finish line with a working model. So buckle up, and let’s dive into the NequIPverse.\n",
        "\n",
        "#### About NequIP\n",
        "\n",
        "NequIP employs E(3)-equivariant graph neural networks, which respect the symmetries of three-dimensional Euclidean space (rotations, translations, and reflections). This allows the model to learn both scalar (e.g., energy) and vector (e.g., forces) properties in a symmetry-aware manner."
      ],
      "metadata": {
        "id": "flge7-QtK0DU"
      }
    },
    {
      "cell_type": "markdown",
      "metadata": {
        "id": "pL6R-tQTBr1K"
      },
      "source": [
        "### 2.2. Installing NequIP <a name=\"nequip-install\"></a>"
      ]
    },
    {
      "cell_type": "code",
      "execution_count": null,
      "metadata": {
        "id": "AintaGQDBwE5"
      },
      "outputs": [],
      "source": [
        "# Clone NequIP\n",
        "!git clone https://github.com/mir-group/nequip.git\n",
        "\n",
        "# Install NequIP\n",
        "!cd nequip && pip install ."
      ]
    },
    {
      "cell_type": "code",
      "execution_count": null,
      "metadata": {
        "id": "ldcCi0zHCH5X"
      },
      "outputs": [],
      "source": [
        "!ls nequip"
      ]
    },
    {
      "cell_type": "markdown",
      "metadata": {
        "id": "sUszjnwyCKmD"
      },
      "source": [
        "### 2.3. Configuration <a name=\"nequip-config\"></a>"
      ]
    },
    {
      "cell_type": "code",
      "execution_count": null,
      "metadata": {
        "id": "Z-uhbFiSCQio"
      },
      "outputs": [],
      "source": [
        "# Specify Paths\n",
        "nequip_dir = Path(os.getcwd()) / 'nequip'\n",
        "nequip_configs_dir = nequip_dir / 'configs'\n",
        "nequip_results_dir = nequip_dir / 'results'\n",
        "\n",
        "# Create directories if not exists\n",
        "os.makedirs(nequip_configs_dir, exist_ok=True)\n",
        "os.makedirs(nequip_results_dir, exist_ok=True)"
      ]
    },
    {
      "cell_type": "markdown",
      "metadata": {
        "id": "NbyjQVaACsOa"
      },
      "source": [
        "#### 2.3.1. Hyperparameters in Training NequIP <a name=\"nequip-hypparam\"></a>"
      ]
    },
    {
      "cell_type": "code",
      "execution_count": null,
      "metadata": {
        "id": "rq99Pju3CywI"
      },
      "outputs": [],
      "source": [
        "# Specifying parameters for training a NequIP model\n",
        "\n",
        "parameters_nequip = {\n",
        "\n",
        "    # Specify model name and save directories\n",
        "    \"root\": str(nequip_results_dir),\n",
        "    \"run_name\": \"botnet\",\n",
        "\n",
        "    # Dataset\n",
        "    \"dataset\": \"ase\",\n",
        "    \"dataset_file_name\": \"BOTNet-datasets/dataset_acac/train_300K.xyz\",\n",
        "\n",
        "    \"key_mapping\": {\n",
        "        \"z\": \"atomic_numbers\",\n",
        "        \"E\": \"total_energy\",\n",
        "        \"F\": \"forces\",\n",
        "        \"R\": \"pos\",\n",
        "    },\n",
        "    \"chemical_symbols\": [\"H\", \"O\", \"C\"],\n",
        "\n",
        "    # Hyperparameters\n",
        "    \"num_features\": 64, # Number of channels determining the size of the model\n",
        "    \"r_max\": 4.0,  # Maximum interaction radius\n",
        "    \"l_max\": 1, # Symmetry of messages\n",
        "    \"parity\": \"true\", # whether to include features with odd mirror parity\n",
        "    \"num_layers\": 4,  # Number of message-passing layers in the model\n",
        "    # radial network\n",
        "    \"num_basis\": 8, # number of basis functions used in the radial basis, 8 usually works best\n",
        "    \"invariant_layers\": 2, # number of radial layers, usually 1-3 works best, smaller is faster\n",
        "    \"invariant_neurons\": 64,  # number of hidden neurons in radial function, smaller is faster\n",
        "\n",
        "    # Optimization\n",
        "    \"n_train\": \"95%\", # Fraction of the training set to use as training\n",
        "    \"n_val\": \"5%\", # Fraction of the training set to use as validation\n",
        "    \"batch_size\": 10, # Batch size for training\n",
        "    \"max_epochs\": 20, # Maximum number of epochs\n",
        "    \"default_dtype\": \"float64\", # Precision for calculations\n",
        "    \"model_dtype\": \"float32\",\n",
        "    \"wandb\": False, # Logging\n",
        "    \"device\": device.type, # Device to use (\"cuda\" for GPU)\n",
        "    \"seed\": 123,\n",
        "    \"dataset_seed\": 456,\n",
        "}\n",
        "\n",
        "\n",
        "# Save parameters to a YAML file\n",
        "input_nequip = nequip_configs_dir / \"input.yaml\"\n",
        "\n",
        "with open(input_nequip, \"w\") as file:\n",
        "    yaml.dump(parameters_nequip, file, default_flow_style=False)\n",
        "\n",
        "print(f\"Parameters have been saved to {input_nequip}\")\n"
      ]
    },
    {
      "cell_type": "markdown",
      "metadata": {
        "id": "lrmdYoYDHUNs"
      },
      "source": [
        "### 2.4. Training NequIP <a name=\"nequip-train\"></a>\n",
        "\n",
        "To train a NequIP model, you can use the `nequip-train` file."
      ]
    },
    {
      "cell_type": "code",
      "execution_count": null,
      "metadata": {
        "id": "VKp-iJgvHPZc"
      },
      "outputs": [],
      "source": [
        "!nequip-train --help"
      ]
    },
    {
      "cell_type": "code",
      "execution_count": null,
      "metadata": {
        "id": "TYb4knc8HqDh"
      },
      "outputs": [],
      "source": [
        "!nequip-train nequip/configs/input.yaml"
      ]
    },
    {
      "cell_type": "markdown",
      "metadata": {
        "id": "gtTa2XSLKav7"
      },
      "source": [
        "**Extra:** Try running the model with different hyperparameters."
      ]
    },
    {
      "cell_type": "code",
      "execution_count": null,
      "metadata": {
        "id": "HieMI0N2JKJa"
      },
      "outputs": [],
      "source": [
        "# Check the output files\n",
        "nequip_train_dir = nequip_results_dir / parameters_nequip[\"run_name\"]\n",
        "for file in nequip_train_dir.rglob(\"*\"):\n",
        "    print(file)"
      ]
    },
    {
      "cell_type": "markdown",
      "metadata": {
        "id": "uBreckr3KfB3"
      },
      "source": [
        "Check the file saved as `metric_epoch.csv` for information of about training."
      ]
    },
    {
      "cell_type": "code",
      "execution_count": null,
      "metadata": {
        "id": "V3BVfRFMKwfi"
      },
      "outputs": [],
      "source": [
        "nequip_train_csv = nequip_train_dir / \"metrics_epoch.csv\"\n",
        "\n",
        "# Load the CSV file\n",
        "df = pd.read_csv(nequip_train_csv)\n",
        "\n",
        "df.head()"
      ]
    },
    {
      "cell_type": "code",
      "execution_count": null,
      "metadata": {
        "id": "zqmKLK46LNkb"
      },
      "outputs": [],
      "source": [
        "# Columns to plot\n",
        "metrics = [\n",
        "    # 'training_loss_e',\n",
        "    'training_loss',\n",
        "    # 'training_e_mae',\n",
        "    # 'training_e_rmse',\n",
        "    # 'validation_loss_e',\n",
        "    'validation_loss',\n",
        "    # 'validation_e_mae',\n",
        "    # 'validation_e_rmse',\n",
        "    ]\n",
        "\n",
        "# Plot each metric against the epoch\n",
        "plt.figure(figsize=(10, 6))\n",
        "for metric in df.columns:\n",
        "    if metric in metrics:\n",
        "        plt.plot(df['epoch'], df[metric], label=metric)\n",
        "\n",
        "# Add labels, title, and legend\n",
        "plt.xlabel('Epoch')\n",
        "plt.ylabel('Metric Value')\n",
        "plt.title('NequIP Training')\n",
        "plt.legend()\n",
        "plt.grid(True)\n",
        "\n",
        "# Show the plot\n",
        "plt.show()"
      ]
    },
    {
      "cell_type": "markdown",
      "metadata": {
        "id": "nQP_PBHMMXpj"
      },
      "source": [
        "### 2.5. Molecular Dynamics using NequIP <a name=\"nequip-md\"></a>\n"
      ]
    },
    {
      "cell_type": "markdown",
      "metadata": {
        "id": "Jtebk_UYy7lA"
      },
      "source": [
        "Molecular dynamics (MD) is a computer simulation technique used to model and analyze the physical movements of atoms and molecules over time. By applying the principles of classical mechanics, specifically Newton's equations of motion, MD calculates the trajectories of particles based on the forces acting between them. These forces are typically derived from potential energy functions that describe interactions such as bonding, electrostatics, and van der Waals forces. The MLIPs are the potential energy functions we are using here."
      ]
    },
    {
      "cell_type": "markdown",
      "metadata": {
        "id": "SZ3rB6y_Wyoc"
      },
      "source": [
        "#### 2.5.1. ASE Molecular Dynamics <a name=\"nequip-md-ase\"></a>\n",
        "\n",
        "We will be using ASE (Atomic Simulation Environment) for performing a simple MD simulations using the module [`ase.md`](https://wiki.fysik.dtu.dk/ase/ase/md.html).\n",
        "\n",
        "The function `simpleMD()` is based on this [tutorial](https://colab.research.google.com/drive/1ZrTuTvavXiCxTFyjBV4GqlARxgFwYAtX)."
      ]
    },
    {
      "cell_type": "code",
      "execution_count": null,
      "metadata": {
        "id": "BsUsTrRC_Ve3"
      },
      "outputs": [],
      "source": [
        "from ase import units\n",
        "from ase.md.langevin import Langevin\n",
        "from ase.md.velocitydistribution import Stationary, ZeroRotation, MaxwellBoltzmannDistribution\n",
        "from ase.calculators.calculator import Calculator\n",
        "from IPython import display\n",
        "\n",
        "def simpleMD(\n",
        "    init_conf: ase.Atoms,\n",
        "    temp: float,\n",
        "    calc: Calculator,\n",
        "    fname: str,\n",
        "    s: int,\n",
        "    T: int,\n",
        "    seed = 123,\n",
        "    init_temp = 300,\n",
        "    friction = 0.1,\n",
        "    ) -> None:\n",
        "    \"\"\"\n",
        "    Perform a simple molecular dynamics (MD) simulation using the Langevin thermostat.\n",
        "\n",
        "    Parameters:\n",
        "    -----------\n",
        "    init_conf : Initial atomic configuration to start the simulation.\n",
        "    temp :  Target temperature of the system in Kelvin.\n",
        "    calc :  Calculator to compute forces and energies for the simulation.\n",
        "    fname :  Filename to store the trajectory (.xyz format).\n",
        "    s :  Interval (in steps) to save frames and update the plot.\n",
        "    T :  Total number of MD steps to run.\n",
        "    seed: To ensure reproducibiity\n",
        "    init_temp: Initialization temperature\n",
        "    friction: Damping factor in Langevin\n",
        "\n",
        "    Returns: None\n",
        "    \"\"\"\n",
        "\n",
        "    # Assign the calculator for force and energy calculations\n",
        "    init_conf.set_calculator(calc)\n",
        "\n",
        "    # Initialize the temperature of the system\n",
        "    random.seed(123)  # Seed for reproducibility\n",
        "    MaxwellBoltzmannDistribution(init_conf, temperature_K=init_temp)  # Initial temp 300 K\n",
        "    Stationary(init_conf)  # Remove net momentum\n",
        "    ZeroRotation(init_conf)  # Remove angular momentum\n",
        "\n",
        "    # Set up the Langevin thermostat\n",
        "    dyn = Langevin(init_conf, 1.0 * units.fs, temperature_K=temp, friction=friction)\n",
        "\n",
        "    # Required for inline plotting in Jupyter Notebook\n",
        "    %matplotlib inline\n",
        "\n",
        "    # Initialize lists to store time, temperature, and energy\n",
        "    time_fs = []\n",
        "    temperature = []\n",
        "    energies = []\n",
        "\n",
        "    # Remove any existing trajectory file with the same name\n",
        "    os.system(\"rm -rfv \" + fname)\n",
        "\n",
        "    # Create a plot with two subplots\n",
        "    fig, ax = pl.subplots(2, 1, figsize=(10, 6), sharex=\"all\", gridspec_kw={\"hspace\": 0, \"wspace\": 0})\n",
        "\n",
        "    def write_frame():\n",
        "        \"\"\"\n",
        "        Function to save a frame of the trajectory and update the live plot.\n",
        "        \"\"\"\n",
        "        dyn.atoms.write(fname, append=True)  # Append current configuration to file\n",
        "        time_fs.append(dyn.get_time() / units.fs)  # Store current simulation time\n",
        "        temperature.append(dyn.atoms.get_temperature())  # Store current temperature\n",
        "        energies.append(dyn.atoms.get_potential_energy() / len(dyn.atoms))  # Potential energy per atom\n",
        "\n",
        "        # Update the plot\n",
        "        ax[0].plot(np.array(time_fs), np.array(energies), color=\"b\")\n",
        "        ax[0].set_ylabel(\"E (eV/atom)\")\n",
        "\n",
        "        ax[1].plot(np.array(time_fs), temperature, color=\"r\")\n",
        "        ax[1].set_ylabel(\"T (K)\")\n",
        "        ax[1].set_xlabel(\"Time (fs)\")\n",
        "        ax[1].axhline(y=temp, linestyle = '--', c = \"black\")\n",
        "\n",
        "        # Clear the previous plot and display the updated one\n",
        "        display.clear_output(wait=True)\n",
        "        display.display(pl.gcf())\n",
        "        time.sleep(0.01)  # Pause for a short time to make the updates visible\n",
        "\n",
        "    # Attach the write_frame function to be called every `s` steps\n",
        "    dyn.attach(write_frame, interval=s)\n",
        "\n",
        "    # Run the MD simulation and time its execution\n",
        "    t0 = time.time()\n",
        "    dyn.run(T)\n",
        "    t1 = time.time()\n",
        "\n",
        "    print(\"MD finished in {0:.2f} minutes!\".format((t1 - t0) / 60))"
      ]
    },
    {
      "cell_type": "markdown",
      "metadata": {
        "id": "2br8uPGv0XfX"
      },
      "source": [
        "We use Langevin thermostat using [`ase.md.langevin.Langevin`](https://wiki.fysik.dtu.dk/ase/ase/md.html#module-ase.md.langevin).\n",
        "\n",
        "[Langevin dynamics](https://en.wikipedia.org/wiki/Langevin_dynamics) is a computational simulation method used to model the behavior of particles in a system by incorporating both deterministic and stochastic (random) forces. It extends classical molecular dynamics (MD) by introducing additional terms to account for the interaction of particles with their surrounding environment, typically represented as a heat bath. This approach is particularly useful for simulating systems at a constant temperature and for capturing the effects of thermal fluctuations and friction without explicitly modeling every component of the environment.\n",
        "\n",
        "\\begin{equation}\n",
        "M \\ddot{\\mathbf{X}} = -\\nabla U(\\mathbf{X}) - \\gamma M \\dot{\\mathbf{X}} + \\sqrt{2 M \\gamma k_{\\mathrm{B}} T} \\, \\mathbf{R}(t),\n",
        "\\end{equation}\n"
      ]
    },
    {
      "cell_type": "markdown",
      "metadata": {
        "id": "lSo_NThvNmEP"
      },
      "source": [
        "#### 2.5.2. Deploying NequIP Model <a name=\"nequip-md-deploy\"></a>\n",
        "The `nequip-deploy` command is used to deploy the result of a training session into a model that can be stored and used for inference. It compiles a NequIP model trained in Python to TorchScript. The result is an optimized model file that has no dependency on the nequip Python library, or even on Python itself"
      ]
    },
    {
      "cell_type": "code",
      "execution_count": null,
      "metadata": {
        "id": "N8jErjc4OCma"
      },
      "outputs": [],
      "source": [
        "!nequip-deploy --help"
      ]
    },
    {
      "cell_type": "code",
      "execution_count": null,
      "metadata": {
        "id": "4SCR9eGXNUXO"
      },
      "outputs": [],
      "source": [
        "!nequip-deploy build --train-dir nequip/results/botnet/ nequip/results/botnet/deployed_model.pth"
      ]
    },
    {
      "cell_type": "markdown",
      "metadata": {
        "id": "3FnWznUnNBSH"
      },
      "source": [
        "#### 2.5.3. NequIP Calculator <a name=\"nequip-md-calc\"></a>\n",
        "NequIP models can run molecular dynamics or geometry optimisation through the ASE calculator."
      ]
    },
    {
      "cell_type": "code",
      "execution_count": null,
      "metadata": {
        "id": "ZF_hVI8D_5NF"
      },
      "outputs": [],
      "source": [
        "init_conf = read('./BOTNet-datasets/dataset_acac/test_MD_300K.xyz', index=0)\n",
        "init_conf"
      ]
    },
    {
      "cell_type": "code",
      "execution_count": null,
      "metadata": {
        "id": "5frpe3dCNOho"
      },
      "outputs": [],
      "source": [
        "from nequip.ase import NequIPCalculator\n",
        "\n",
        "# Specify the path to the pre-trained MACE model\n",
        "nequip_model = nequip_train_dir / \"deployed_model.pth\"\n",
        "\n",
        "# Initialize the NequIP calculator with the specified model\n",
        "nequip_calc = NequIPCalculator.from_deployed_model(nequip_model)\n",
        "\n",
        "# Call the simpleMD function to perform a molecular dynamics simulation\n",
        "simpleMD(init_conf, temp=300, calc=nequip_calc, fname='nequip/results/nequip_md_acac_300K.xyz', s=10, T=500)"
      ]
    },
    {
      "cell_type": "markdown",
      "metadata": {
        "id": "ay3ydUi7SGxZ"
      },
      "source": [
        "## 3. MACE <a name=\"mace\"></a>"
      ]
    },
    {
      "cell_type": "markdown",
      "metadata": {
        "id": "DpHFspleSM20"
      },
      "source": [
        "### 3.1. Introduction <a name=\"mace-intro\"></a>\n",
        "#### About MACE\n",
        "\n",
        "[MACE](https://proceedings.neurips.cc/paper_files/paper/2022/hash/4a36c3c51af11ed9f34615b81edb5bbc-Abstract-Conference.html) is a machine learning interatomic potential (MLIP) framework that leverages **message-passing neural networks (MPNNs)** with equivariant representations to capture **complex many-body interactions** in atomic systems.\n",
        "\n",
        "Inspired from [ACE](https://doi.org/10.1103/PhysRevB.99.014104)-framework, MACE implements a many-body order basis and combines it with message passing framework similar to NequIP to resulting in a fast and highly parallelizable model, reaching or exceeding state-of-the-art accuracy, reducing the number of message passing iterations to just two. For a deeper dive refer to [this paper](https://arxiv.org/abs/2205.06643).\n",
        "\n",
        "#### Objective\n",
        "This tutorial aims to give a brief introduction to using MACE for training on dataset and implementing a simple Molecular Dynamics code."
      ]
    },
    {
      "cell_type": "markdown",
      "metadata": {
        "id": "oEt4n-kuS0nA"
      },
      "source": [
        "### 3.2. Installing MACE <a name=\"mace-install\"></a>"
      ]
    },
    {
      "cell_type": "code",
      "execution_count": null,
      "metadata": {
        "id": "amzso7wnSKtw"
      },
      "outputs": [],
      "source": [
        "# Clone MACE\n",
        "!git clone --depth 1 https://github.com/ACEsuit/mace.git\n",
        "\n",
        "# Install MACE\n",
        "!cd mace && pip install ."
      ]
    },
    {
      "cell_type": "code",
      "execution_count": null,
      "metadata": {
        "id": "7DPJnio8S3L3"
      },
      "outputs": [],
      "source": [
        "# View MACE directory\n",
        "!ls mace"
      ]
    },
    {
      "cell_type": "markdown",
      "metadata": {
        "id": "9d9r7FqiTgeI"
      },
      "source": [
        "### 3.3. Configuration <a name=\"mace-config\"></a>"
      ]
    },
    {
      "cell_type": "code",
      "execution_count": null,
      "metadata": {
        "id": "yvwPGELPTn-c"
      },
      "outputs": [],
      "source": [
        "# Specify paths\n",
        "mace_dir = Path(os.getcwd()) / 'mace'\n",
        "mace_configs_dir = mace_dir / 'configs'\n",
        "mace_results_dir = mace_dir / 'results'\n",
        "\n",
        "# Create directories if not exists\n",
        "os.makedirs(mace_configs_dir, exist_ok=True)\n",
        "os.makedirs(mace_results_dir, exist_ok=True)"
      ]
    },
    {
      "cell_type": "markdown",
      "metadata": {
        "id": "RqrNtGKbUt6g"
      },
      "source": [
        "#### 3.3.1 Hyperparameters in Training MACE\n",
        "\n",
        "For configuring the hyperparameters, we can specify a YAML file. The following is an example:"
      ]
    },
    {
      "cell_type": "code",
      "execution_count": null,
      "metadata": {
        "id": "sruRZZIqUtYF"
      },
      "outputs": [],
      "source": [
        "# Specifying parameters for training a MACE model\n",
        "\n",
        "parameters_mace = {\n",
        "\n",
        "    # Specify model name and save directories\n",
        "    \"name\": \"botnet\",  # Name of the model being trained\n",
        "    \"model_dir\": str(mace_results_dir),\n",
        "    \"log_dir\": str(mace_results_dir),\n",
        "    \"checkpoints_dir\": str(mace_results_dir),\n",
        "    \"results_dir\": str(mace_results_dir),\n",
        "\n",
        "    # Train file specifications\n",
        "    \"train_file\": \"BOTNet-datasets/dataset_acac/train_300K.xyz\",  # Path to training data\n",
        "    \"forces_key\": \"forces\",  # Key for forces in the dataset\n",
        "    \"energy_key\": \"energy\",  # Key for energy in the dataset\n",
        "\n",
        "    # From isolated_atoms.xyz get the reference energies for isolated atoms.\n",
        "    \"E0s\": {\n",
        "        1: -13.663181292231226,  # Energy for Hydrogen (H)\n",
        "        6: -1029.2809654211628,  # Energy for Carbon (C)\n",
        "        8: -2042.0330099956639,  # Energy for Oxygen (O)\n",
        "    },\n",
        "\n",
        "    # Hyperparameters\n",
        "    \"model\": \"MACE\",  # Type of model to train (https://mace-docs.readthedocs.io/en/latest/guide/training.html#model)\n",
        "    \"num_channels\": 64, # Number of channels determining the size of the model\n",
        "    \"r_max\": 4.0,  # Maximum interaction radius\n",
        "    \"max_L\": 1, # Symmetry of messages\n",
        "\n",
        "    \"num_interactions\": 2,  # Number of message-passing layers in the model (recommended to keep default)\n",
        "    \"correlation\": 3, # The order of the many-body expansion (recommended to keep default)\n",
        "    \"max_ell\": 3, # The angular resolution describes how well the model can describe angles (recommended to keep default)\n",
        "\n",
        "    # Optimization\n",
        "    \"valid_fraction\": 0.05, # Fraction of the training set to use as validation\n",
        "    \"batch_size\": 10, # Batch size for training\n",
        "    \"max_num_epochs\": 20, # Maximum number of epochs\n",
        "    \"default_dtype\": \"float32\", # Precision for calculations\n",
        "    \"device\": \"cuda\", # Device to use (\"cuda\" for GPU)\n",
        "    \"seed\": 123,\n",
        "}\n",
        "\n",
        "# Save parameters to a YAML file\n",
        "input_mace = mace_configs_dir / \"input.yaml\"\n",
        "\n",
        "with open(input_mace, \"w\") as file:\n",
        "    yaml.dump(parameters_mace, file, default_flow_style=False)\n",
        "\n",
        "print(f\"Parameters have been saved to {input_mace}\")"
      ]
    },
    {
      "cell_type": "markdown",
      "metadata": {
        "id": "apI8oehDyZ79"
      },
      "source": [
        "### 3.4. Training MACE <a name=\"mace-train\"></a>"
      ]
    },
    {
      "cell_type": "markdown",
      "metadata": {
        "id": "gwDQsWPJyfL6"
      },
      "source": [
        "To train a MACE model, you can use the `run_train.py` script."
      ]
    },
    {
      "cell_type": "code",
      "execution_count": null,
      "metadata": {
        "id": "DZ2wvuQuyl_h"
      },
      "outputs": [],
      "source": [
        "!python3 ./mace/scripts/run_train.py --config=\"mace/configs/input.yaml\""
      ]
    },
    {
      "cell_type": "markdown",
      "metadata": {
        "id": "i7bZVgtK0Ar_"
      },
      "source": [
        "**Extra:** Try running the model with different hyperparameters."
      ]
    },
    {
      "cell_type": "code",
      "execution_count": null,
      "metadata": {
        "id": "JEoJmdxCyP-S"
      },
      "outputs": [],
      "source": [
        "# Check the output files\n",
        "mace_train_dir = Path(parameters_mace[\"model_dir\"])\n",
        "for file in mace_train_dir.rglob(\"*\"):\n",
        "    print(file)"
      ]
    },
    {
      "cell_type": "markdown",
      "metadata": {
        "id": "_hVN7PTp04Q4"
      },
      "source": [
        "Check the file saved as `..._train.txt` for information of about training."
      ]
    },
    {
      "cell_type": "code",
      "execution_count": null,
      "metadata": {
        "id": "V79uWmTO06sV"
      },
      "outputs": [],
      "source": [
        "mace_train_txt = mace_train_dir / f\"{parameters_mace['name']}_run-{parameters_mace['seed']}_train.txt\"\n",
        "\n",
        "# Parsing the file\n",
        "eval_data = {}\n",
        "opt_data = {}\n",
        "\n",
        "with open(mace_train_txt, 'r') as file:\n",
        "    lines = file.readlines()\n",
        "\n",
        "    for line in lines:\n",
        "        try:\n",
        "            record = json.loads(line)\n",
        "\n",
        "            if record[\"mode\"] == \"eval\":\n",
        "                # Extract the epoch\n",
        "                epoch = record.get(\"epoch\", None)\n",
        "                epoch_key = epoch if epoch is not None else None\n",
        "\n",
        "                # Initialize a sub-dictionary for this epoch if not already present\n",
        "                if epoch_key not in eval_data:\n",
        "                    eval_data[epoch_key] = {}\n",
        "\n",
        "                # Add all other keys (except 'mode' and 'epoch') to the sub-dictionary\n",
        "                for key, value in record.items():\n",
        "                    if key not in [\"mode\", \"epoch\"]:\n",
        "                        eval_data[epoch_key][key] = value\n",
        "\n",
        "            elif record[\"mode\"] == \"opt\":\n",
        "                # Extract the epoch\n",
        "                epoch = record.get(\"epoch\", None)\n",
        "                epoch_key = epoch if epoch is not None else None\n",
        "\n",
        "                # Initialize a sub-dictionary for this epoch if not already present\n",
        "                if epoch_key not in opt_data:\n",
        "                    opt_data[epoch_key] = {}\n",
        "\n",
        "                # Initialize lists for all keys including 'epoch' if not present\n",
        "                for key in record:\n",
        "                    if key not in [\"mode\", \"epoch\"]: # Removed \"epoch\" to initialize it\n",
        "                        if key not in opt_data[epoch_key]:  # This line is crucial\n",
        "                            opt_data[epoch_key][key] = []\n",
        "\n",
        "                # Append values to the lists\n",
        "                for key, value in record.items():\n",
        "                    if key not in [\"mode\", \"epoch\"]:\n",
        "                        opt_data[epoch_key][key].append(value)\n",
        "\n",
        "        except json.JSONDecodeError:\n",
        "            continue"
      ]
    },
    {
      "cell_type": "code",
      "execution_count": null,
      "metadata": {
        "id": "NSGcCAgy9r_c"
      },
      "outputs": [],
      "source": [
        "opt_data[0]"
      ]
    },
    {
      "cell_type": "code",
      "execution_count": null,
      "metadata": {
        "id": "2t_1qbuR9vnO"
      },
      "outputs": [],
      "source": [
        "eval_data[0]"
      ]
    },
    {
      "cell_type": "markdown",
      "metadata": {
        "id": "i6-kYDUV90iq"
      },
      "source": [
        "The `..._train.txt` file contains two types of data:\n",
        "\n",
        "1. Optimization Data: Batch Optimization data\n",
        "2. Evaluation Data: Validation data\n",
        "\n"
      ]
    },
    {
      "cell_type": "code",
      "execution_count": null,
      "metadata": {
        "id": "iFowR64f-phq"
      },
      "outputs": [],
      "source": [
        "train_loss_data = []\n",
        "valid_loss_data = []\n",
        "\n",
        "for epoch in opt_data.keys():\n",
        "  train_loss_data.append(opt_data[epoch]['loss'])\n",
        "  valid_loss_data.append(eval_data[epoch]['loss'])\n",
        "\n",
        "average_train_loss_data=[]\n",
        "\n",
        "num_validation_configs = parameters_mace['valid_fraction'] * num_configs\n",
        "num_train_configs = num_configs - num_validation_configs\n",
        "\n",
        "for loss in train_loss_data:\n",
        "  average_train_loss_data.append(np.sum(loss) / num_train_configs)\n",
        "\n",
        "plt.plot(valid_loss_data, marker='v', linestyle='-', label='validation_loss')\n",
        "plt.plot(average_train_loss_data, marker='o', linestyle='-', label='training_loss')\n",
        "plt.xlabel('Epoch')\n",
        "plt.ylabel('Metric Value')\n",
        "plt.title('MACE Training')\n",
        "plt.legend()\n",
        "plt.grid(True)\n",
        "plt.show()"
      ]
    },
    {
      "cell_type": "markdown",
      "metadata": {
        "id": "IeLbLNzM_vYI"
      },
      "source": [
        "### 3.5. Molecular Dynamics using MACE <a name=\"mace-md\"></a>"
      ]
    },
    {
      "cell_type": "markdown",
      "metadata": {
        "id": "poFuiECz3tky"
      },
      "source": [
        "#### 3.5.1 MACE Calculator\n",
        "MACE models can run molecular dynamics or geometry optimisation through the ASE calculator. There is no need for model deployement unlike in NequIP."
      ]
    },
    {
      "cell_type": "code",
      "execution_count": null,
      "metadata": {
        "id": "yUki4t6aM8hL"
      },
      "outputs": [],
      "source": [
        "init_conf = read('./BOTNet-datasets/dataset_acac/test_MD_300K.xyz', index=0)\n",
        "init_conf"
      ]
    },
    {
      "cell_type": "code",
      "execution_count": null,
      "metadata": {
        "id": "Fll-gAQ4_-Kn"
      },
      "outputs": [],
      "source": [
        "from mace.calculators import MACECalculator\n",
        "\n",
        "# Specify the path to the pre-trained MACE model\n",
        "mace_model = mace_train_dir / f\"{parameters_mace['name']}_compiled.model\"\n",
        "\n",
        "# Initialize the MACE calculator with the specified model\n",
        "mace_calc = MACECalculator(model_paths=[mace_model], device='cuda', default_dtype=\"float32\")\n",
        "\n",
        "# Call the simpleMD function to perform a molecular dynamics simulation\n",
        "simpleMD(init_conf, temp=300, calc=mace_calc, fname='mace/results/mace_md_acac_300K.xyz', s=10, T=500)"
      ]
    },
    {
      "cell_type": "markdown",
      "source": [
        "## 4. Exercises <a name=\"exercises\"></a>\n",
        "\n",
        "1. We haven't tested the trained NequIP or MACE model. To test it we can use:\n",
        "\n",
        "  - Use `nequip-evaluate` for NequIP model. [Refer this](https://github.com/mir-group/nequip?tab=readme-ov-file#evaluating-trained-models-and-their-error) or use `nequip-evaluate --help` for more reference.\n",
        "  - Use `eval_configs.py` for MACE model. [Refer this](https://mace-docs.readthedocs.io/en/latest/guide/evaluation.html).\n",
        "\n",
        "2. Play with the hyperparamters for NequIP and MACE. How are they similar? What are the differences in the models?\n",
        "\n",
        "3. Training was done on `train_300K.xyz`. If you see the `dataset_acac` directory, there are other training datasets. Train it on `train_600K.xyz` and perform evaluation and MD on `test_600K.xyz`. How could you change the MD simulation for this dataset? Compare the results from tutorials.\n",
        "\n"
      ],
      "metadata": {
        "id": "HabCJZQkz5nW"
      }
    },
    {
      "cell_type": "markdown",
      "source": [
        "## 5. BONUS: Visualizing `.xyz` files <a name=\"ovito\"></a>\n",
        "\n",
        "We can visualize the Molecular Dynamics file using softwares such as [OVITO](https://www.ovito.org/).\n",
        "\n",
        "1. This can be done by downloading and installing OVITO software on your local device from the following website - [Download OVITO](https://www.ovito.org/#download)\n",
        "\n",
        "2. After downloading it, open the application. [Refer this for usage instructions](https://www.ovito.org/manual).\n",
        "\n",
        "3. Download `.xyz` trajectory files to your local device.\n",
        "\n",
        "4. Go to `Files`->`Load File...`-> Load the Trajectory File.\n",
        "\n",
        "5. Play the animation.\n",
        "\n",
        "\n",
        "\n"
      ],
      "metadata": {
        "id": "7nYAGml70o2G"
      }
    }
  ],
  "metadata": {
    "accelerator": "GPU",
    "colab": {
      "gpuType": "T4",
      "provenance": []
    },
    "kernelspec": {
      "display_name": "Python 3",
      "name": "python3"
    },
    "language_info": {
      "name": "python"
    }
  },
  "nbformat": 4,
  "nbformat_minor": 0
}